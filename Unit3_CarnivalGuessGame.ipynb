{
 "cells": [
  {
   "cell_type": "code",
   "execution_count": 29,
   "id": "587b12a1-a548-48f8-b56c-fb94080a2fd0",
   "metadata": {},
   "outputs": [],
   "source": [
    "# We are creating a simple carnival game (3 cups and 1 ball)\n",
    "# we will use a shuffle function to shuffle our list of \"cups\"\n",
    "\n",
    "example = [1,2,3,4,5,6,7]"
   ]
  },
  {
   "cell_type": "code",
   "execution_count": 3,
   "id": "5379338f-7e11-4f67-99b0-8f0f288a113a",
   "metadata": {},
   "outputs": [],
   "source": [
    "from random import shuffle"
   ]
  },
  {
   "cell_type": "code",
   "execution_count": 5,
   "id": "06328a7b-8a33-4579-9397-6e6fd0f562a0",
   "metadata": {},
   "outputs": [],
   "source": [
    "shuffle(example)"
   ]
  },
  {
   "cell_type": "code",
   "execution_count": 7,
   "id": "223cecfd-4bd6-4160-b78b-2d8b43e9411c",
   "metadata": {},
   "outputs": [
    {
     "data": {
      "text/plain": [
       "[4, 6, 3, 2, 1, 5, 7]"
      ]
     },
     "execution_count": 7,
     "metadata": {},
     "output_type": "execute_result"
    }
   ],
   "source": [
    "example"
   ]
  },
  {
   "cell_type": "code",
   "execution_count": 11,
   "id": "22e07134-d3cf-4a1c-85dd-f0351feac006",
   "metadata": {},
   "outputs": [],
   "source": [
    "# Create a shuffle function to add a bit of functionality and receive assign the shuffle list to a variable\n",
    "def shuffle_list(mylist):\n",
    "    shuffle(mylist)\n",
    "    return(mylist)"
   ]
  },
  {
   "cell_type": "raw",
   "id": "0acb9bce-e02c-4840-963c-7522a184facb",
   "metadata": {},
   "source": [
    "result = shuffle_list(example)"
   ]
  },
  {
   "cell_type": "code",
   "execution_count": 17,
   "id": "bd54c43e-5300-47a3-a581-1bdeeac339f2",
   "metadata": {},
   "outputs": [
    {
     "data": {
      "text/plain": [
       "[6, 7, 1, 4, 2, 3, 5]"
      ]
     },
     "execution_count": 17,
     "metadata": {},
     "output_type": "execute_result"
    }
   ],
   "source": [
    "result"
   ]
  },
  {
   "cell_type": "code",
   "execution_count": 21,
   "id": "84ad2cdb-b705-486e-8a19-bacb7efab568",
   "metadata": {},
   "outputs": [],
   "source": [
    "result = shuffle_list(example)"
   ]
  },
  {
   "cell_type": "code",
   "execution_count": 23,
   "id": "72f0ecd2-fd31-4e03-bed2-4553ac67de05",
   "metadata": {},
   "outputs": [
    {
     "data": {
      "text/plain": [
       "[5, 6, 3, 2, 7, 4, 1]"
      ]
     },
     "execution_count": 23,
     "metadata": {},
     "output_type": "execute_result"
    }
   ],
   "source": [
    "result"
   ]
  },
  {
   "cell_type": "code",
   "execution_count": 25,
   "id": "9cb56c6d-7b17-4b04-ab68-ffc99c2e1962",
   "metadata": {},
   "outputs": [],
   "source": [
    "#for our game we have a list with 3 strings as \"cups\": 2 blanks and an 'o'\n",
    "mylist = [' ', 'O',' ']"
   ]
  },
  {
   "cell_type": "code",
   "execution_count": 27,
   "id": "fa2cc05d-30b4-4ddd-a272-f7856172d15f",
   "metadata": {},
   "outputs": [
    {
     "data": {
      "text/plain": [
       "[' ', ' ', 'o']"
      ]
     },
     "execution_count": 27,
     "metadata": {},
     "output_type": "execute_result"
    }
   ],
   "source": [
    "shuffle_list(mylist)"
   ]
  },
  {
   "cell_type": "code",
   "execution_count": 39,
   "id": "0e79a6f3-f1bd-4065-9ea1-d1ddd0f66b59",
   "metadata": {},
   "outputs": [],
   "source": [
    "# Now we need the player to guess a position with the following function\n",
    "\n",
    "def player_guess():\n",
    "\n",
    "    guess = ''\n",
    "\n",
    "    while guess not in ['0','1','2']:\n",
    "        guess = input(\"pick a number: 0, 1, 2\")\n",
    "\n",
    "    return int(guess)"
   ]
  },
  {
   "cell_type": "code",
   "execution_count": 43,
   "id": "da95a874-6c23-4073-b37f-dd00867b2165",
   "metadata": {},
   "outputs": [
    {
     "name": "stdin",
     "output_type": "stream",
     "text": [
      "pick a number: 0, 1, 2 1\n"
     ]
    },
    {
     "data": {
      "text/plain": [
       "1"
      ]
     },
     "execution_count": 43,
     "metadata": {},
     "output_type": "execute_result"
    }
   ],
   "source": [
    "player_guess()"
   ]
  },
  {
   "cell_type": "code",
   "execution_count": 35,
   "id": "0af20bee-a340-4ecd-8682-04b25b23f77f",
   "metadata": {},
   "outputs": [
    {
     "name": "stdin",
     "output_type": "stream",
     "text": [
      "pick a number: 0, 1, 2 2\n"
     ]
    }
   ],
   "source": [
    "my_index = player_guess()"
   ]
  },
  {
   "cell_type": "code",
   "execution_count": 37,
   "id": "b0bb7d5a-1cf2-4fd2-abf7-ef4c06c36237",
   "metadata": {},
   "outputs": [
    {
     "data": {
      "text/plain": [
       "2"
      ]
     },
     "execution_count": 37,
     "metadata": {},
     "output_type": "execute_result"
    }
   ],
   "source": [
    "my_index"
   ]
  },
  {
   "cell_type": "code",
   "execution_count": 55,
   "id": "031fa4f8-641d-4b05-af05-22390d08cc81",
   "metadata": {},
   "outputs": [],
   "source": [
    "# Next we need a function to apply the index to our shuffled list and check if is a good guess and run again until it is\n",
    "# Here is where the function start to interact with each other\n",
    "\n",
    "def check_guess(my_list, guess):\n",
    "    if my_list[guess] == 'O':\n",
    "        print('Correct!')\n",
    "    else:\n",
    "        print(\"Wrong guess!\")\n",
    "        print(mylist)\n",
    "        "
   ]
  },
  {
   "cell_type": "code",
   "execution_count": 61,
   "id": "0ed2e093-10ab-43b7-b219-6baa5a701a91",
   "metadata": {},
   "outputs": [
    {
     "name": "stdin",
     "output_type": "stream",
     "text": [
      "pick a number: 0, 1, 2 1\n"
     ]
    },
    {
     "name": "stdout",
     "output_type": "stream",
     "text": [
      "Wrong guess!\n",
      "[' ', ' ', 'O']\n"
     ]
    }
   ],
   "source": [
    "#Initial set up of the list\n",
    "mylist = [' ','O',' ']\n",
    "\n",
    "# Shuffel the list\n",
    "mixed_up_list = shuffle_list(mylist)\n",
    "\n",
    "# take the guess input from player\n",
    "guess = player_guess()\n",
    "\n",
    "# check if the guess is correct\n",
    "check_guess(mixed_up_list, guess)\n"
   ]
  },
  {
   "cell_type": "code",
   "execution_count": null,
   "id": "0de7fa00-286b-4451-8a4d-595fe0cb0c3c",
   "metadata": {},
   "outputs": [],
   "source": []
  }
 ],
 "metadata": {
  "kernelspec": {
   "display_name": "Python 3 (ipykernel)",
   "language": "python",
   "name": "python3"
  },
  "language_info": {
   "codemirror_mode": {
    "name": "ipython",
    "version": 3
   },
   "file_extension": ".py",
   "mimetype": "text/x-python",
   "name": "python",
   "nbconvert_exporter": "python",
   "pygments_lexer": "ipython3",
   "version": "3.12.4"
  }
 },
 "nbformat": 4,
 "nbformat_minor": 5
}
