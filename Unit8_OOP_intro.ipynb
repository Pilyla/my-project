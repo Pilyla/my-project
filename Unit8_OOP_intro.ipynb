{
 "cells": [
  {
   "cell_type": "code",
   "execution_count": null,
   "id": "a709d8a6-5d3f-4e44-bdec-2b91ae62478e",
   "metadata": {},
   "outputs": [],
   "source": [
    "# OOP Python Object Oriented Programming"
   ]
  },
  {
   "cell_type": "code",
   "execution_count": null,
   "id": "24b7edda-ea69-4711-bf92-086ee7f3b89a",
   "metadata": {},
   "outputs": [],
   "source": [
    "#In python everything is an object "
   ]
  },
  {
   "cell_type": "code",
   "execution_count": null,
   "id": "a5f8b28a-9d52-49e8-b4b8-5f4a4c0599cc",
   "metadata": {},
   "outputs": [],
   "source": [
    "list = [1,2,3]"
   ]
  },
  {
   "cell_type": "code",
   "execution_count": null,
   "id": "cac38787-92fe-4048-9e8c-23e2004c239b",
   "metadata": {},
   "outputs": [],
   "source": [
    "type(list)"
   ]
  },
  {
   "cell_type": "code",
   "execution_count": null,
   "id": "499de948-e571-488b-8582-671d82206754",
   "metadata": {},
   "outputs": [],
   "source": [
    "class Sample():\n",
    "    pass"
   ]
  },
  {
   "cell_type": "code",
   "execution_count": null,
   "id": "609c5ce1-3ee8-4d7d-b109-332c1d09e7bb",
   "metadata": {},
   "outputs": [],
   "source": [
    "my_sample=Sample()"
   ]
  },
  {
   "cell_type": "code",
   "execution_count": null,
   "id": "63c4b30f-8a2c-45e2-a44f-7f14d6c3231f",
   "metadata": {},
   "outputs": [],
   "source": [
    "type(my_sample)"
   ]
  },
  {
   "cell_type": "code",
   "execution_count": 1,
   "id": "fc86bc0a-f4d8-42a9-8d6a-eca7c5cc5d15",
   "metadata": {},
   "outputs": [],
   "source": [
    "#To create attributes(Characteristics) for a class\n",
    "class Dog():\n",
    "\n",
    "    # CLASS OBEJECT ATTRIBUTE - GLOBAL TO ALL THE CLASSES = SAME FOR ALL THE INSTANCES - No need for SELF\n",
    "    classspecies = 'mammal'\n",
    "    \n",
    "    def __init__(self, breed, name, spots):\n",
    "\n",
    "        # Attributes\n",
    "        # We take in the arguments\n",
    "        # and assign it using self.attribute_name\n",
    "        # SELF is only used to work with instaces of the class\n",
    "        \n",
    "        self.breed = breed\n",
    "        self.name = name\n",
    "\n",
    "        # Expect Boolean\n",
    "        self.spots = spots\n",
    "\n",
    "    # Actions/OPERATIONS --> Methods (functions inside a class that works the object in some way \n",
    "    def bark(self,number):\n",
    "        print('Woof! My name is {} and I am {} years old'.format(self.name, number))\n",
    "    "
   ]
  },
  {
   "cell_type": "code",
   "execution_count": 3,
   "id": "4237c014-f216-4ab9-b0a1-55f01d7b866f",
   "metadata": {},
   "outputs": [],
   "source": [
    "my_dog = Dog(breed='Beagle', name='Buzz', spots='False')"
   ]
  },
  {
   "cell_type": "code",
   "execution_count": 4,
   "id": "c5a859b6-294c-45fd-88a6-f5755673cde4",
   "metadata": {},
   "outputs": [
    {
     "data": {
      "text/plain": [
       "__main__.Dog"
      ]
     },
     "execution_count": 4,
     "metadata": {},
     "output_type": "execute_result"
    }
   ],
   "source": [
    "type(my_dog)"
   ]
  },
  {
   "cell_type": "code",
   "execution_count": 5,
   "id": "2714cd1b-4a88-4153-8ca3-46c3abaf1d6a",
   "metadata": {},
   "outputs": [
    {
     "data": {
      "text/plain": [
       "'Beagle'"
      ]
     },
     "execution_count": 5,
     "metadata": {},
     "output_type": "execute_result"
    }
   ],
   "source": [
    "my_dog.breed"
   ]
  },
  {
   "cell_type": "code",
   "execution_count": 6,
   "id": "8e5510ea-61f4-4166-b429-6008bb4e9cd0",
   "metadata": {},
   "outputs": [
    {
     "data": {
      "text/plain": [
       "'mammal'"
      ]
     },
     "execution_count": 6,
     "metadata": {},
     "output_type": "execute_result"
    }
   ],
   "source": [
    "my_dog.classspecies"
   ]
  },
  {
   "cell_type": "code",
   "execution_count": 10,
   "id": "dfd80d8e-de8c-407f-9417-12bc5621305a",
   "metadata": {},
   "outputs": [
    {
     "name": "stdout",
     "output_type": "stream",
     "text": [
      "Woof! My name is Buzz and I am 6 years old\n"
     ]
    }
   ],
   "source": [
    "my_dog.bark(6)"
   ]
  },
  {
   "cell_type": "code",
   "execution_count": 12,
   "id": "57581fc3-f5c6-469f-817e-d6a8959f34f1",
   "metadata": {},
   "outputs": [],
   "source": [
    "my_dog = Dog('Lab', 'Tom','True')"
   ]
  },
  {
   "cell_type": "code",
   "execution_count": 14,
   "id": "38a7d693-8f59-4ba8-9481-46ac0c234167",
   "metadata": {},
   "outputs": [
    {
     "name": "stdout",
     "output_type": "stream",
     "text": [
      "Woof! My name is Tom and I am 5 years old\n"
     ]
    }
   ],
   "source": [
    "my_dog.bark(5)"
   ]
  },
  {
   "cell_type": "code",
   "execution_count": null,
   "id": "87e929be-a2ac-40f3-a035-e485dea42496",
   "metadata": {},
   "outputs": [],
   "source": []
  },
  {
   "cell_type": "code",
   "execution_count": null,
   "id": "e31a4bb0-ae21-423a-93cc-6d9b0a67ef4e",
   "metadata": {},
   "outputs": [],
   "source": [
    "# ClASS METHODS"
   ]
  },
  {
   "cell_type": "code",
   "execution_count": 18,
   "id": "96012f76-6c1b-4e33-816c-4e4008dc99f5",
   "metadata": {},
   "outputs": [],
   "source": [
    "class Circle(): \n",
    "\n",
    "    # CLASS OBJECT ATTRIBUTE - something that is true for all circles\n",
    "    pi = 3.14\n",
    "\n",
    "    def __init__(self, radius=1):\n",
    "        \n",
    "        self.radius = radius\n",
    "        self.area = radius * radius * self.pi \n",
    "\n",
    "    # Method\n",
    "    def get_circunference(self):\n",
    "\n",
    "        return self.radius * self.pi * 2\n",
    "        "
   ]
  },
  {
   "cell_type": "code",
   "execution_count": 24,
   "id": "d5c29a9f-282f-409f-96d0-9485bb69c46b",
   "metadata": {},
   "outputs": [],
   "source": [
    "my_circle = Circle()"
   ]
  },
  {
   "cell_type": "code",
   "execution_count": 26,
   "id": "b1f95b73-806f-46f5-a3f3-01e23a0fdd4e",
   "metadata": {},
   "outputs": [
    {
     "data": {
      "text/plain": [
       "3.14"
      ]
     },
     "execution_count": 26,
     "metadata": {},
     "output_type": "execute_result"
    }
   ],
   "source": [
    "my_circle.pi"
   ]
  },
  {
   "cell_type": "code",
   "execution_count": 28,
   "id": "cd678c31-0838-4032-8c41-f9e50c934dae",
   "metadata": {},
   "outputs": [
    {
     "data": {
      "text/plain": [
       "1"
      ]
     },
     "execution_count": 28,
     "metadata": {},
     "output_type": "execute_result"
    }
   ],
   "source": [
    "my_circle.radius"
   ]
  },
  {
   "cell_type": "code",
   "execution_count": 30,
   "id": "a22009dc-d2ed-48bd-87fe-1e2e8d1f2636",
   "metadata": {},
   "outputs": [],
   "source": [
    "my_circle = Circle(15)"
   ]
  },
  {
   "cell_type": "code",
   "execution_count": 32,
   "id": "8b592bb3-5790-4db4-90dc-78e7aa5620e1",
   "metadata": {},
   "outputs": [
    {
     "data": {
      "text/plain": [
       "15"
      ]
     },
     "execution_count": 32,
     "metadata": {},
     "output_type": "execute_result"
    }
   ],
   "source": [
    "my_circle.radius"
   ]
  },
  {
   "cell_type": "code",
   "execution_count": 34,
   "id": "2328ffec-1098-45c0-ac5a-c41dab7e3541",
   "metadata": {},
   "outputs": [
    {
     "data": {
      "text/plain": [
       "94.2"
      ]
     },
     "execution_count": 34,
     "metadata": {},
     "output_type": "execute_result"
    }
   ],
   "source": [
    "my_circle.get_circunference()"
   ]
  },
  {
   "cell_type": "markdown",
   "id": "a481f32e-2efd-412f-bf50-85c5a25413fa",
   "metadata": {},
   "source": []
  },
  {
   "cell_type": "code",
   "execution_count": 37,
   "id": "99613a38-ac14-4c58-8968-78bc3492bfca",
   "metadata": {},
   "outputs": [
    {
     "data": {
      "text/plain": [
       "706.5"
      ]
     },
     "execution_count": 37,
     "metadata": {},
     "output_type": "execute_result"
    }
   ],
   "source": [
    "my_circle.area"
   ]
  },
  {
   "cell_type": "code",
   "execution_count": null,
   "id": "699655bb-6df3-47ce-9c0e-088bacdafbe3",
   "metadata": {},
   "outputs": [],
   "source": []
  },
  {
   "cell_type": "code",
   "execution_count": 3,
   "id": "963c110b-620a-4f17-a05d-45bebd8fa6ca",
   "metadata": {},
   "outputs": [],
   "source": [
    "# INHERITANCE"
   ]
  },
  {
   "cell_type": "code",
   "execution_count": 5,
   "id": "190a2da4-a558-4325-bc07-bf05b9d731fa",
   "metadata": {},
   "outputs": [],
   "source": [
    "class Animal:\n",
    "    def __init__(self):\n",
    "        print(\"Animal created\")\n",
    "\n",
    "    def whoAmI(self):\n",
    "        print(\"Animal\")\n",
    "\n",
    "    def eat(self):\n",
    "        print(\"Eating\")\n",
    "\n",
    "\n",
    "class Dog(Animal):\n",
    "    def __init__(self):\n",
    "        Animal.__init__(self)\n",
    "        print(\"Dog created\")\n",
    "\n",
    "    def whoAmI(self):\n",
    "        print(\"Dog\")\n",
    "\n",
    "    def bark(self):\n",
    "        print(\"Woof!\")\n",
    "    "
   ]
  },
  {
   "cell_type": "code",
   "execution_count": 7,
   "id": "bda9dbfc-3a96-4382-a437-9baa8a07e3b0",
   "metadata": {},
   "outputs": [
    {
     "name": "stdout",
     "output_type": "stream",
     "text": [
      "Animal created\n",
      "Dog created\n"
     ]
    }
   ],
   "source": [
    "my_dog = Dog() "
   ]
  },
  {
   "cell_type": "code",
   "execution_count": 11,
   "id": "908bbac8-60d5-4371-9f64-3d7beccdf0e8",
   "metadata": {},
   "outputs": [
    {
     "name": "stdout",
     "output_type": "stream",
     "text": [
      "Dog\n"
     ]
    }
   ],
   "source": [
    "my_dog.whoAmI()"
   ]
  },
  {
   "cell_type": "code",
   "execution_count": 13,
   "id": "e0b76134-f07c-4e7e-bd7f-acad6753f5f3",
   "metadata": {},
   "outputs": [
    {
     "name": "stdout",
     "output_type": "stream",
     "text": [
      "Woof!\n"
     ]
    }
   ],
   "source": [
    "my_dog.bark()"
   ]
  },
  {
   "cell_type": "code",
   "execution_count": null,
   "id": "d52034c9-cef5-45b4-8c81-ff2231f0ba1e",
   "metadata": {},
   "outputs": [],
   "source": []
  },
  {
   "cell_type": "code",
   "execution_count": 16,
   "id": "77c089b4-6756-432a-80de-f225c2b66368",
   "metadata": {},
   "outputs": [],
   "source": [
    "# Polymorphism"
   ]
  },
  {
   "cell_type": "code",
   "execution_count": 18,
   "id": "a6ff62d3-cc6d-4fb8-aa82-8aaf365cd3aa",
   "metadata": {},
   "outputs": [
    {
     "name": "stdout",
     "output_type": "stream",
     "text": [
      "Niko says Woof!\n",
      "Felix says Meow!\n"
     ]
    }
   ],
   "source": [
    "class Dog:\n",
    "    def __init__(self, name):\n",
    "        self.name = name\n",
    "\n",
    "    def speak(self):\n",
    "        return self.name+' says Woof!'\n",
    "    \n",
    "class Cat:\n",
    "    def __init__(self, name):\n",
    "        self.name = name\n",
    "\n",
    "    def speak(self):\n",
    "        return self.name+' says Meow!' \n",
    "    \n",
    "niko = Dog('Niko')\n",
    "felix = Cat('Felix')\n",
    "\n",
    "print(niko.speak())\n",
    "print(felix.speak())"
   ]
  },
  {
   "cell_type": "code",
   "execution_count": 22,
   "id": "26121fa8-e5aa-43cc-8b1f-e16a203335cd",
   "metadata": {},
   "outputs": [
    {
     "name": "stdout",
     "output_type": "stream",
     "text": [
      "Niko says Woof!\n",
      "Felix says Meow!\n"
     ]
    }
   ],
   "source": [
    "# Here we have a Dog class and a Cat class, and each has a .speak() method. \n",
    "# When called, each object's .speak() method returns a result unique to the object.\n",
    "# There a few different ways to demonstrate polymorphism. First, with a for loop:\n",
    "\n",
    "for pet in [niko, felix]:\n",
    "    print(pet.speak())"
   ]
  },
  {
   "cell_type": "code",
   "execution_count": 26,
   "id": "c6618c20-a798-4290-911c-515c4e818431",
   "metadata": {},
   "outputs": [
    {
     "name": "stdout",
     "output_type": "stream",
     "text": [
      "Niko says Woof!\n",
      "Felix says Meow!\n"
     ]
    }
   ],
   "source": [
    "# polimorphism can also be demostarted using functions\n",
    "\n",
    "def pet_speak(pet):\n",
    "    print(pet.speak())\n",
    "\n",
    "pet_speak(niko)\n",
    "pet_speak(felix)"
   ]
  },
  {
   "cell_type": "code",
   "execution_count": 28,
   "id": "f8e613cc-ab3b-4e33-90f2-1c40dfa42e6b",
   "metadata": {},
   "outputs": [
    {
     "name": "stdout",
     "output_type": "stream",
     "text": [
      "Fido says Woof!\n",
      "Isis says Meow!\n"
     ]
    }
   ],
   "source": [
    "# A most common practice is to use abstract class that is never instanced...\n",
    "\n",
    "class Animal:\n",
    "    def __init__(self, name):    # Constructor of the class\n",
    "        self.name = name\n",
    "\n",
    "    def speak(self):              # Abstract method, defined by convention only\n",
    "        raise NotImplementedError(\"Subclass must implement abstract method\")\n",
    "\n",
    "\n",
    "class Dog(Animal):\n",
    "    \n",
    "    def speak(self):\n",
    "        return self.name+' says Woof!'\n",
    "    \n",
    "class Cat(Animal):\n",
    "\n",
    "    def speak(self):\n",
    "        return self.name+' says Meow!'\n",
    "    \n",
    "fido = Dog('Fido')\n",
    "isis = Cat('Isis')\n",
    "\n",
    "print(fido.speak())\n",
    "print(isis.speak())"
   ]
  },
  {
   "cell_type": "code",
   "execution_count": null,
   "id": "bfbe8ec7-d7d5-40c3-8fb5-58186b183da6",
   "metadata": {},
   "outputs": [],
   "source": []
  },
  {
   "cell_type": "code",
   "execution_count": null,
   "id": "201045b6-508b-424f-b3f3-564ea68f97ae",
   "metadata": {},
   "outputs": [],
   "source": []
  },
  {
   "cell_type": "code",
   "execution_count": 32,
   "id": "006afb69-f9c5-4bf5-9f49-727932863aef",
   "metadata": {},
   "outputs": [],
   "source": [
    "# Classes in Python can implement certain operations with special method names that use some of the functionality and applied to our own classes"
   ]
  },
  {
   "cell_type": "code",
   "execution_count": 34,
   "id": "a015767a-0932-4fd8-9bfc-15e71aaa66b5",
   "metadata": {},
   "outputs": [],
   "source": [
    "# For example __str__ to print or string the class object, or __len__ for the lenth of the object...\n",
    "class Book:\n",
    "    def __init__(self, title, author, pages):\n",
    "        print(\"A book is created\")\n",
    "        self.title = title\n",
    "        self.author = author\n",
    "        self.pages = pages\n",
    "\n",
    "    def __str__(self):\n",
    "        return \"Title: %s, author: %s, pages: %s\" %(self.title, self.author, self.pages)\n",
    "\n",
    "    def __len__(self):\n",
    "        return self.pages\n",
    "\n",
    "    def __del__(self):\n",
    "        print(\"A book is destroyed\")"
   ]
  },
  {
   "cell_type": "code",
   "execution_count": 42,
   "id": "f69c8160-f7be-4297-83b0-3045b9ee6863",
   "metadata": {},
   "outputs": [
    {
     "name": "stdout",
     "output_type": "stream",
     "text": [
      "A book is created\n"
     ]
    }
   ],
   "source": [
    "book = Book(\"Python Rocks!\", \"Jose Portilla\", 200)"
   ]
  },
  {
   "cell_type": "code",
   "execution_count": 44,
   "id": "1d9d51fe-f920-4f1d-87e3-8d4086b67552",
   "metadata": {},
   "outputs": [
    {
     "name": "stdout",
     "output_type": "stream",
     "text": [
      "Title: Python Rocks!, author: Jose Portilla, pages: 200\n",
      "200\n",
      "A book is destroyed\n"
     ]
    }
   ],
   "source": [
    "#Special Methods\n",
    "print(book)\n",
    "print(len(book))\n",
    "del book #way to delete variable from computer memory"
   ]
  },
  {
   "cell_type": "code",
   "execution_count": null,
   "id": "bc44d476-39ca-4ddd-815a-ad3c083a5471",
   "metadata": {},
   "outputs": [],
   "source": []
  }
 ],
 "metadata": {
  "kernelspec": {
   "display_name": "Python 3 (ipykernel)",
   "language": "python",
   "name": "python3"
  },
  "language_info": {
   "codemirror_mode": {
    "name": "ipython",
    "version": 3
   },
   "file_extension": ".py",
   "mimetype": "text/x-python",
   "name": "python",
   "nbconvert_exporter": "python",
   "pygments_lexer": "ipython3",
   "version": "3.12.4"
  }
 },
 "nbformat": 4,
 "nbformat_minor": 5
}
