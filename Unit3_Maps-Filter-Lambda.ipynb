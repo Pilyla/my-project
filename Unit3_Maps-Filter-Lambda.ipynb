{
 "cells": [
  {
   "cell_type": "code",
   "execution_count": 5,
   "id": "80df4070-123d-4284-9f2d-71302e7a7012",
   "metadata": {},
   "outputs": [],
   "source": [
    "# Maps and Filter and Lambda functions\n",
    "\n",
    "def square(num):\n",
    "    return num**2"
   ]
  },
  {
   "cell_type": "code",
   "execution_count": 9,
   "id": "dbeab2d0-1655-4b63-af3a-c2ee5e5700e1",
   "metadata": {},
   "outputs": [
    {
     "data": {
      "text/plain": [
       "<map at 0x14c8e132e60>"
      ]
     },
     "execution_count": 9,
     "metadata": {},
     "output_type": "execute_result"
    }
   ],
   "source": [
    "my_nums = [1,2,3,4,5]\n",
    "map(square,my_nums) #This could be done with a for loop but its a lot of code and iterations, map can do it better"
   ]
  },
  {
   "cell_type": "code",
   "execution_count": 11,
   "id": "6abfb125-4ae0-4dd7-9cc7-5b98dad1bc33",
   "metadata": {},
   "outputs": [
    {
     "name": "stdout",
     "output_type": "stream",
     "text": [
      "1\n",
      "4\n",
      "9\n",
      "16\n",
      "25\n"
     ]
    }
   ],
   "source": [
    "for item in map(square, my_nums):\n",
    "    print(item)"
   ]
  },
  {
   "cell_type": "code",
   "execution_count": 13,
   "id": "95c4323d-eefb-4de9-8848-22927d0d88d7",
   "metadata": {},
   "outputs": [
    {
     "data": {
      "text/plain": [
       "[1, 4, 9, 16, 25]"
      ]
     },
     "execution_count": 13,
     "metadata": {},
     "output_type": "execute_result"
    }
   ],
   "source": [
    "#if we want to return it in a list\n",
    "list(map(square, my_nums))"
   ]
  },
  {
   "cell_type": "code",
   "execution_count": 55,
   "id": "943285d7-e2b5-47ea-a266-f51c9042719b",
   "metadata": {},
   "outputs": [],
   "source": [
    "def splicer(mystring):\n",
    "    if len(mystring)%2 == 0:\n",
    "        return 'EVEN'\n",
    "    else:\n",
    "        return mystring[0]"
   ]
  },
  {
   "cell_type": "code",
   "execution_count": 57,
   "id": "81d62887-e068-46e8-8760-53632c0c50f8",
   "metadata": {},
   "outputs": [],
   "source": [
    "names = ['Andy', 'Eve', 'Sally']"
   ]
  },
  {
   "cell_type": "code",
   "execution_count": 59,
   "id": "f13a29d8-3475-445f-99f9-63a36596e0a3",
   "metadata": {},
   "outputs": [
    {
     "data": {
      "text/plain": [
       "['EVEN', 'E', 'S']"
      ]
     },
     "execution_count": 59,
     "metadata": {},
     "output_type": "execute_result"
    }
   ],
   "source": [
    "list(map(splicer,names))"
   ]
  },
  {
   "cell_type": "code",
   "execution_count": 61,
   "id": "0b554b0e-7f3d-4436-b6de-4a85d35d2268",
   "metadata": {},
   "outputs": [
    {
     "data": {
      "text/plain": [
       "<filter at 0x22466bb3e20>"
      ]
     },
     "execution_count": 61,
     "metadata": {},
     "output_type": "execute_result"
    }
   ],
   "source": [
    "#Filter function - return an iterator yielding those items of the iterable for which when you pass in the item into the function it is true\n",
    "# so the function that we pass needs to return True or False\n",
    "\n",
    "def check_even(num): \n",
    "    return num%2 == 0\n",
    "\n",
    "mynums = [1,2,3,4,5,6]\n",
    "\n",
    "# I only want to grab even from the list - similar to  map function but conditional\n",
    "\n",
    "filter(check_even, mynums)"
   ]
  },
  {
   "cell_type": "code",
   "execution_count": 63,
   "id": "b2860f1d-8616-4277-a01b-5a23baf5dc9a",
   "metadata": {},
   "outputs": [
    {
     "data": {
      "text/plain": [
       "[2, 4, 6]"
      ]
     },
     "execution_count": 63,
     "metadata": {},
     "output_type": "execute_result"
    }
   ],
   "source": [
    "#Just like map we need to transform it into a list or iterate through it\n",
    "list(filter(check_even,mynums))\n"
   ]
  },
  {
   "cell_type": "code",
   "execution_count": 65,
   "id": "c61e8bde-529e-4cf5-9910-c5d793d3383a",
   "metadata": {},
   "outputs": [
    {
     "name": "stdout",
     "output_type": "stream",
     "text": [
      "2\n",
      "4\n",
      "6\n"
     ]
    }
   ],
   "source": [
    "for n in filter(check_even, mynums):\n",
    "    print(n)"
   ]
  },
  {
   "cell_type": "code",
   "execution_count": 67,
   "id": "c4ff99d8-98de-4652-a7ff-5afc32a63ff3",
   "metadata": {},
   "outputs": [],
   "source": [
    "# Lambda expression - first we'll take a function and convert it into Lambda expression\n",
    "def square(num):\n",
    "    return num ** 2"
   ]
  },
  {
   "cell_type": "code",
   "execution_count": 69,
   "id": "069a18a1-7e9e-4965-80ab-6774ec138cb0",
   "metadata": {},
   "outputs": [
    {
     "data": {
      "text/plain": [
       "9"
      ]
     },
     "execution_count": 69,
     "metadata": {},
     "output_type": "execute_result"
    }
   ],
   "source": [
    "square(3)"
   ]
  },
  {
   "cell_type": "code",
   "execution_count": 71,
   "id": "afd5e85b-7dcc-4272-bdf2-52d89a2f563d",
   "metadata": {},
   "outputs": [],
   "source": [
    "# the following is acceptable in Python although is not good coding for readability\n",
    "def square(num): return num ** 2"
   ]
  },
  {
   "cell_type": "code",
   "execution_count": 73,
   "id": "de6957ca-55ad-42c2-a3b7-806fea6e0f87",
   "metadata": {},
   "outputs": [
    {
     "data": {
      "text/plain": [
       "9"
      ]
     },
     "execution_count": 73,
     "metadata": {},
     "output_type": "execute_result"
    }
   ],
   "source": [
    "square(3)"
   ]
  },
  {
   "cell_type": "code",
   "execution_count": 75,
   "id": "c6e7f2b0-f4e9-4eec-9993-193bc59501c1",
   "metadata": {},
   "outputs": [
    {
     "data": {
      "text/plain": [
       "<function __main__.<lambda>(num)>"
      ]
     },
     "execution_count": 75,
     "metadata": {},
     "output_type": "execute_result"
    }
   ],
   "source": [
    "# this is a lamb ecxpression that will be anonym and only called once\n",
    "# def square(num): return num ** 2\n",
    "lambda num: num ** 2  "
   ]
  },
  {
   "cell_type": "code",
   "execution_count": 77,
   "id": "f961be46-f83f-4ebc-8452-4a5d4461a980",
   "metadata": {},
   "outputs": [],
   "source": [
    "square = lambda num: num ** 2"
   ]
  },
  {
   "cell_type": "code",
   "execution_count": 79,
   "id": "8629dc8f-c88d-4c51-bde2-2a5bd48cb769",
   "metadata": {},
   "outputs": [
    {
     "data": {
      "text/plain": [
       "25"
      ]
     },
     "execution_count": 79,
     "metadata": {},
     "output_type": "execute_result"
    }
   ],
   "source": [
    "square(5)"
   ]
  },
  {
   "cell_type": "code",
   "execution_count": 81,
   "id": "f768a18e-b97f-4217-b01c-59a03bdc474e",
   "metadata": {},
   "outputs": [
    {
     "data": {
      "text/plain": [
       "16"
      ]
     },
     "execution_count": 81,
     "metadata": {},
     "output_type": "execute_result"
    }
   ],
   "source": [
    "square(4)"
   ]
  },
  {
   "cell_type": "code",
   "execution_count": 83,
   "id": "9efaa55f-75be-42b9-b298-b1aef3bbda52",
   "metadata": {},
   "outputs": [
    {
     "data": {
      "text/plain": [
       "[1, 4, 9, 16, 25, 36]"
      ]
     },
     "execution_count": 83,
     "metadata": {},
     "output_type": "execute_result"
    }
   ],
   "source": [
    "# lambda is typically used in conjunction with Map and Filter function, not assigned to a variable\n",
    "list(map(lambda num: num**2, mynums))"
   ]
  },
  {
   "cell_type": "code",
   "execution_count": 85,
   "id": "7f0bff89-1d41-4bb8-9941-a0fff4035cab",
   "metadata": {},
   "outputs": [
    {
     "data": {
      "text/plain": [
       "[2, 4, 6]"
      ]
     },
     "execution_count": 85,
     "metadata": {},
     "output_type": "execute_result"
    }
   ],
   "source": [
    "# now with filter\n",
    "\n",
    "list(filter(lambda num: num%2 == 0, mynums))"
   ]
  },
  {
   "cell_type": "code",
   "execution_count": 87,
   "id": "965541bb-dd27-4439-a16c-47d35efc3490",
   "metadata": {},
   "outputs": [],
   "source": [
    "# To grab the first letter of string out of a list of string we can use a lambda fn like this"
   ]
  },
  {
   "cell_type": "code",
   "execution_count": 89,
   "id": "eff8e58f-8aa2-4702-8b28-12ecb98d3964",
   "metadata": {},
   "outputs": [
    {
     "data": {
      "text/plain": [
       "['Andy', 'Eve', 'Sally']"
      ]
     },
     "execution_count": 89,
     "metadata": {},
     "output_type": "execute_result"
    }
   ],
   "source": [
    "names"
   ]
  },
  {
   "cell_type": "code",
   "execution_count": 95,
   "id": "13b8c2f0-26a7-4c15-a9aa-ad882ed605f1",
   "metadata": {},
   "outputs": [
    {
     "data": {
      "text/plain": [
       "['A', 'E', 'S']"
      ]
     },
     "execution_count": 95,
     "metadata": {},
     "output_type": "execute_result"
    }
   ],
   "source": [
    "list(map(lambda name:name[0], names)) #I want to take the incomming name and rtn back the first character of it"
   ]
  },
  {
   "cell_type": "code",
   "execution_count": 99,
   "id": "ea6ad53b-f3b3-4b83-9266-0cd1738f17b8",
   "metadata": {},
   "outputs": [
    {
     "data": {
      "text/plain": [
       "['ydnA', 'evE', 'yllaS']"
      ]
     },
     "execution_count": 99,
     "metadata": {},
     "output_type": "execute_result"
    }
   ],
   "source": [
    "#if I want to reverse the actual strings\n",
    "list(map(lambda name:name[::-1], names)) \n"
   ]
  },
  {
   "cell_type": "code",
   "execution_count": null,
   "id": "97e0513e-d724-4c48-ae19-f7f1ab9cdb32",
   "metadata": {},
   "outputs": [],
   "source": []
  }
 ],
 "metadata": {
  "kernelspec": {
   "display_name": "Python 3 (ipykernel)",
   "language": "python",
   "name": "python3"
  },
  "language_info": {
   "codemirror_mode": {
    "name": "ipython",
    "version": 3
   },
   "file_extension": ".py",
   "mimetype": "text/x-python",
   "name": "python",
   "nbconvert_exporter": "python",
   "pygments_lexer": "ipython3",
   "version": "3.12.4"
  }
 },
 "nbformat": 4,
 "nbformat_minor": 5
}
