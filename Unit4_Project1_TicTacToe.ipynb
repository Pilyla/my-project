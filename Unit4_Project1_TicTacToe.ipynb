{
 "cells": [
  {
   "cell_type": "code",
   "execution_count": 77,
   "id": "1e15ff5f-2d0d-414e-8331-e2387e79e901",
   "metadata": {},
   "outputs": [],
   "source": [
    "#First Milestone Project\n",
    "# TicTacToe game between 2 players"
   ]
  },
  {
   "cell_type": "code",
   "execution_count": 79,
   "id": "aede2be8-491d-4d3d-a29e-e1409e150186",
   "metadata": {},
   "outputs": [],
   "source": [
    "# Step 1 - Print out board    \n",
    "\n",
    "from IPython.display import clear_output\n",
    "\n",
    "def display_board(game_board):\n",
    "\n",
    "    clear_output()  # To clear up previous output between moves (only works fro Jupiter Notebooks)\n",
    "    \n",
    "    # Print board\n",
    "    separator = ' | '\n",
    "    \n",
    "    print(' ' + game_board[7] + separator,game_board[8] + separator,game_board[9])\n",
    "    print('-------------')\n",
    "    print(' ' + game_board[4] + separator,game_board[5] + separator,game_board[6])\n",
    "    print('-------------')\n",
    "    print(' ' + game_board[1] + separator,game_board[2] + separator,game_board[3])\n",
    "    "
   ]
  },
  {
   "cell_type": "code",
   "execution_count": 81,
   "id": "4dac9a78-680e-4ae5-aa7b-dc58d46bda14",
   "metadata": {},
   "outputs": [],
   "source": [
    "#test_board = ['#', 'x', 'O', 'X', 'O', 'X', 'O', 'X', 'O', 'X']\n",
    "#display_board(test_board)"
   ]
  },
  {
   "cell_type": "code",
   "execution_count": 83,
   "id": "b572e810-f156-4c46-aa3f-5d15c4c4d587",
   "metadata": {},
   "outputs": [],
   "source": [
    "# Step 2 - Take player output and assign markers as 'X' or 'O'\n",
    "\n",
    "def player_input():\n",
    "\n",
    "    choice = 'wrong'\n",
    "    acceptable_values = ['X','O']\n",
    "    \n",
    "    while choice.upper() not in acceptable_values:\n",
    "\n",
    "        choice = input('Please select your marker [X or O] ?: ') \n",
    "        if choice.upper() not in acceptable_values:\n",
    "            print('Sorry, invalid choice! Choose X or O')\n",
    "\n",
    "    return choice.upper()\n"
   ]
  },
  {
   "cell_type": "code",
   "execution_count": 85,
   "id": "9e47caf5-e3d1-49fa-8265-df08c4f819f2",
   "metadata": {},
   "outputs": [],
   "source": [
    "# Step 3 - Take Board list, marker ('X' or 'O') and position (1 - 9) and assigns the marker to the board in that position\n",
    "\n",
    "def place_marker(board, marker, position):\n",
    "\n",
    "    board[position] = marker\n",
    "    return board\n"
   ]
  },
  {
   "cell_type": "code",
   "execution_count": 87,
   "id": "9a0a5a55-b8c7-4502-9f7d-9044491bcae5",
   "metadata": {},
   "outputs": [],
   "source": [
    "# Step 4 - Take board and marker ('X' or 'O') and return if marker won (return True or False)\n",
    "\n",
    "def win_check(board, marker):\n",
    "\n",
    "    #Possible combinations to win for a marker i.e 1,2,3 or 1,4,7 or 1,5,9 or 3,5,7 or 3,6,9 and so on using (key and 2 list positions)\n",
    "    win_dict = {'1':[2,3,4,7,5,9], '2':[5,8], '3':[5,7,6,9], '4':[5,6], '7':[8,9]} \n",
    "\n",
    "    #Iterate through the dict keys that match position on board with marker\n",
    "    for k, lst in win_dict.items():\n",
    "        i = 0 \n",
    "        k_int = int(k)\n",
    "        for i in range(0, len(lst)-2):\n",
    "            \n",
    "            if (board[k_int] == board[lst[i]] == board[lst[i+1]] == marker):\n",
    "                return True\n",
    "            else:\n",
    "                i+=2\n",
    "                \n",
    "#  A SOULTION COULD BE AS BELOW AS WELL\n",
    "    \n",
    "#    if (board[1] == board[2] == board[3] == marker) or (board[1] == board[4] == board[7] == marker) or (board[1] == board[5] == board[9] == marker):\n",
    "#        return True\n",
    "#    elif (board[2] == board[5] == board[8] == marker) or (board[3] == board[5] == board[7] == marker) or (board[3] == board[6] == board[9] == marker):\n",
    "#        return True\n",
    "#    elif (board[4] == board[5] == board[6] == marker) or (board[7] == board[8] == board[9] == marker):\n",
    "#        return True\n",
    "\n",
    "    return False"
   ]
  },
  {
   "cell_type": "code",
   "execution_count": 89,
   "id": "7099cf66-b7a0-4207-8eac-4a3564e538b3",
   "metadata": {},
   "outputs": [],
   "source": [
    "# Step 5 - Use random module to decide which player goes first\n",
    "\n",
    "import random\n",
    "\n",
    "def choose_first():\n",
    "\n",
    "    return random.randint(1,2) #Player 1 or 2 will go first depending on the return"
   ]
  },
  {
   "cell_type": "code",
   "execution_count": 91,
   "id": "924c5726-2e7e-4b7a-8ff3-4253e82f6473",
   "metadata": {},
   "outputs": [],
   "source": [
    "# Step 6 - Check if a space is freely available to play into\n",
    "\n",
    "def space_check(board, position):\n",
    "\n",
    "    if board[position] == ' ': # Is the position empty or available in the board?\n",
    "        return True\n",
    "    else:\n",
    "        return False"
   ]
  },
  {
   "cell_type": "code",
   "execution_count": 93,
   "id": "c7b744b3-b1db-4232-809e-86ea10449194",
   "metadata": {},
   "outputs": [],
   "source": [
    "# Step 7 - Check if the board is full\n",
    "\n",
    "def board_full(board):\n",
    "\n",
    "    if ' ' in board: # Are there any empty spaces left in the board?\n",
    "        return False\n",
    "    else:\n",
    "        print('It is a Tie! Game Over!')\n",
    "        return True"
   ]
  },
  {
   "cell_type": "code",
   "execution_count": 95,
   "id": "859a5cc2-8f6b-4914-af67-50728bd08061",
   "metadata": {},
   "outputs": [],
   "source": [
    "# Step 8 - Ask for players next position (as a numnber 1-9) and return position if is freely available (use space_check)\n",
    "\n",
    "def player_choice(board):\n",
    "\n",
    "    choice = 'wrong' #anything that is not a digit will work here\n",
    "    acceptable_range = range(1,10)\n",
    "    within_range = False\n",
    "\n",
    "    #TWO CONDITIONS TO CHECK\n",
    "    #DIGIT OR within_range == False\n",
    "\n",
    "    while choice.isdigit() == False or not within_range:\n",
    "        \n",
    "        choice = input('Please enter position number (1-9)')\n",
    "\n",
    "        if choice.isdigit() == False:\n",
    "            print('Sorry that is not a number!')\n",
    "        else:\n",
    "            if int(choice) in acceptable_range:\n",
    "                if space_check(board, int(choice)):\n",
    "                    within_range = True\n",
    "                else:\n",
    "                    print('Sorry, position is not available')\n",
    "            else:\n",
    "                print('Number is out of range!')\n",
    "\n",
    "    return int(choice)"
   ]
  },
  {
   "cell_type": "code",
   "execution_count": 97,
   "id": "53d6ea8f-c38e-45af-a4b2-f355511c8f36",
   "metadata": {},
   "outputs": [],
   "source": [
    "# Step 9 - Ask player if they want to play again - return a boolean\n",
    "\n",
    "def replay():\n",
    "\n",
    "    choice = 'wrong'\n",
    "    acceptable_values = ['Y','N']\n",
    "    while choice.upper() not in acceptable_values:\n",
    "\n",
    "        choice = input('Do you want to keep playing [Y or N]?: ') \n",
    "\n",
    "        if choice.upper() not in acceptable_values:\n",
    "            print('Sorry, invalid choice! Choose Y or N')\n",
    "\n",
    "    if choice.upper() == 'Y':\n",
    "        return True\n",
    "    else:\n",
    "        return False\n",
    "   "
   ]
  },
  {
   "cell_type": "code",
   "execution_count": 99,
   "id": "52a92b7d-ce70-4409-af7c-4cce26d954f0",
   "metadata": {},
   "outputs": [],
   "source": [
    "# function to switch marker symbol between X & O\n",
    "\n",
    "def switch_marker(marker):\n",
    "\n",
    "    if marker == 'X':\n",
    "        return 'O'\n",
    "    else:\n",
    "        return 'X'\n"
   ]
  },
  {
   "cell_type": "markdown",
   "id": "4ee71a03-083f-4674-84da-ad6125132308",
   "metadata": {},
   "source": [
    "## Main Code for the game \n",
    "\n",
    "print('Welcome to Tic Tac Toe!')\n",
    "\n",
    "while True:\n",
    "    # Set the game up here\n",
    "\n",
    "    game_on = True\n",
    "    game_board = ['#'] + [' ']*9 #set up the initial empty board\n",
    "    \n",
    "    next_turn = choose_first() #Randomly choose first player\n",
    "    marker = player_input() # get first player's choice of marker\n",
    "\n",
    "    while game_on:\n",
    "        \n",
    "        position = player_choice(game_board)\n",
    "        #print(position, type(position))\n",
    "        \n",
    "        if next_turn == 1:\n",
    "            #Player 1 Turn\n",
    "            game_board = place_marker(game_board, marker, position)\n",
    "            next_turn = 2\n",
    "        else:   \n",
    "            # Player2 Turn\n",
    "            game_board = place_marker(game_board, marker, position)\n",
    "            next_turn = 1\n",
    "        \n",
    "        display_board(game_board) #Display game_board with new position\n",
    "        \n",
    "        # CHECK IF PLAYER WON - YES? - CONGRAT & BREAK\n",
    "        if win_check(game_board, marker):\n",
    "            print('You WIN! Congratulations!')\n",
    "            break    \n",
    "\n",
    "        # CHECK IF BOARD IS FULL - YES? GAME IS TIE - BREAK\n",
    "        if board_full(game_board):\n",
    "            break \n",
    "            \n",
    "        marker = switch_marker(marker) #Next player's turn   \n",
    "    \n",
    "    if not replay():\n",
    "        break"
   ]
  },
  {
   "cell_type": "code",
   "execution_count": null,
   "id": "92cbed59-c82f-4c07-b6b3-e4c40fe105f6",
   "metadata": {},
   "outputs": [],
   "source": []
  }
 ],
 "metadata": {
  "kernelspec": {
   "display_name": "Python 3 (ipykernel)",
   "language": "python",
   "name": "python3"
  },
  "language_info": {
   "codemirror_mode": {
    "name": "ipython",
    "version": 3
   },
   "file_extension": ".py",
   "mimetype": "text/x-python",
   "name": "python",
   "nbconvert_exporter": "python",
   "pygments_lexer": "ipython3",
   "version": "3.12.4"
  }
 },
 "nbformat": 4,
 "nbformat_minor": 5
}
