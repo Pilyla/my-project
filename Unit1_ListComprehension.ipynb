{
 "cells": [
  {
   "cell_type": "code",
   "execution_count": 1,
   "id": "37b70bbf-aef3-4e49-ba1b-c7df649016e3",
   "metadata": {},
   "outputs": [],
   "source": [
    "#List comprehension in Python\n",
    "# Quick way to create list in Python\n",
    "\n",
    "#Typically begginers will create something like the following code to create a list\n",
    "\n",
    "mystring = 'hello'"
   ]
  },
  {
   "cell_type": "code",
   "execution_count": 5,
   "id": "01b5518d-58a5-4fb6-8ce4-4fee3fb733b2",
   "metadata": {},
   "outputs": [],
   "source": [
    "mylist = []\n",
    "\n",
    "for letter in mystring:\n",
    "    mylist.append(letter)"
   ]
  },
  {
   "cell_type": "code",
   "execution_count": 7,
   "id": "9ba8fa35-2bea-4dcb-9c2e-f4b0acadebe6",
   "metadata": {},
   "outputs": [
    {
     "data": {
      "text/plain": [
       "['h', 'e', 'l', 'l', 'o']"
      ]
     },
     "execution_count": 7,
     "metadata": {},
     "output_type": "execute_result"
    }
   ],
   "source": [
    "mylist"
   ]
  },
  {
   "cell_type": "code",
   "execution_count": 9,
   "id": "b696682f-48e2-4786-b48e-4d2d000e8154",
   "metadata": {},
   "outputs": [],
   "source": [
    "#we can do the exact same thing in 1 line - more efficient in space and time (computationally is about the same)\n",
    "mylist = [letter for letter in mystring]"
   ]
  },
  {
   "cell_type": "code",
   "execution_count": 11,
   "id": "d6502f31-d827-4ecc-bb64-126746f0dccd",
   "metadata": {},
   "outputs": [
    {
     "data": {
      "text/plain": [
       "['h', 'e', 'l', 'l', 'o']"
      ]
     },
     "execution_count": 11,
     "metadata": {},
     "output_type": "execute_result"
    }
   ],
   "source": [
    "mylist"
   ]
  },
  {
   "cell_type": "code",
   "execution_count": 13,
   "id": "4b102f0e-9db3-4893-b084-50b63d5d2268",
   "metadata": {},
   "outputs": [],
   "source": [
    "mylist = [x for x in 'apple']"
   ]
  },
  {
   "cell_type": "code",
   "execution_count": 15,
   "id": "7abdc090-0180-4fd4-a141-8732f54225aa",
   "metadata": {},
   "outputs": [
    {
     "data": {
      "text/plain": [
       "['a', 'p', 'p', 'l', 'e']"
      ]
     },
     "execution_count": 15,
     "metadata": {},
     "output_type": "execute_result"
    }
   ],
   "source": [
    "mylist"
   ]
  },
  {
   "cell_type": "code",
   "execution_count": 25,
   "id": "6c97508c-efe9-40db-b00e-ca52439e86ef",
   "metadata": {},
   "outputs": [],
   "source": [
    "mylist = [num for num in range(1,21)]"
   ]
  },
  {
   "cell_type": "code",
   "execution_count": 27,
   "id": "04f83ff9-f6a3-4b40-85f7-7b37b1d441eb",
   "metadata": {},
   "outputs": [
    {
     "data": {
      "text/plain": [
       "[1, 2, 3, 4, 5, 6, 7, 8, 9, 10, 11, 12, 13, 14, 15, 16, 17, 18, 19, 20]"
      ]
     },
     "execution_count": 27,
     "metadata": {},
     "output_type": "execute_result"
    }
   ],
   "source": [
    "mylist"
   ]
  },
  {
   "cell_type": "code",
   "execution_count": 35,
   "id": "19ad066c-a307-4906-984d-08cdfbd25d30",
   "metadata": {},
   "outputs": [],
   "source": [
    "mylist = [num**2 for num in range(1,11)]"
   ]
  },
  {
   "cell_type": "code",
   "execution_count": 37,
   "id": "2c811b3f-8287-48d3-b0e3-02b33cbe489d",
   "metadata": {},
   "outputs": [
    {
     "data": {
      "text/plain": [
       "[1, 4, 9, 16, 25, 36, 49, 64, 81, 100]"
      ]
     },
     "execution_count": 37,
     "metadata": {},
     "output_type": "execute_result"
    }
   ],
   "source": [
    "mylist"
   ]
  },
  {
   "cell_type": "code",
   "execution_count": 51,
   "id": "6e2075a4-4b3d-405d-829a-c20f017544ed",
   "metadata": {},
   "outputs": [],
   "source": [
    "mylist = [x**2 for x in range(0,11) if x%2 != 0]"
   ]
  },
  {
   "cell_type": "code",
   "execution_count": 53,
   "id": "6079924a-744f-456f-97e0-834633aece46",
   "metadata": {},
   "outputs": [
    {
     "data": {
      "text/plain": [
       "[1, 9, 25, 49, 81]"
      ]
     },
     "execution_count": 53,
     "metadata": {},
     "output_type": "execute_result"
    }
   ],
   "source": [
    "mylist"
   ]
  },
  {
   "cell_type": "code",
   "execution_count": 77,
   "id": "61bc7df9-240e-45d6-b5bd-c0e05b381ff2",
   "metadata": {},
   "outputs": [],
   "source": [
    "celcius = [0, 10, 20, 23, 24.5, 37.8, 38.2, 39]\n",
    "\n",
    "fahrenheit = [((9/5 * temp) + 32) for temp in celcius]"
   ]
  },
  {
   "cell_type": "code",
   "execution_count": 79,
   "id": "7406e14d-f9be-4b80-a287-9f7ae371a0bd",
   "metadata": {},
   "outputs": [
    {
     "data": {
      "text/plain": [
       "[32.0, 50.0, 68.0, 73.4, 76.1, 100.03999999999999, 100.76, 102.2]"
      ]
     },
     "execution_count": 79,
     "metadata": {},
     "output_type": "execute_result"
    }
   ],
   "source": [
    "fahrenheit"
   ]
  },
  {
   "cell_type": "code",
   "execution_count": 81,
   "id": "e8c231ac-a6e9-4f14-9bf2-2369d3e963d5",
   "metadata": {},
   "outputs": [],
   "source": [
    "#You can have IF/ELSE statements in list comprehension but it can make your code confusing and difficult to read\n",
    "\n",
    "results = [x if x%2==0 else 'ODD' for x in range(0,11)]"
   ]
  },
  {
   "cell_type": "code",
   "execution_count": 83,
   "id": "73e708b7-3e8e-45d5-b787-9636e720bd7c",
   "metadata": {},
   "outputs": [
    {
     "data": {
      "text/plain": [
       "[0, 'ODD', 2, 'ODD', 4, 'ODD', 6, 'ODD', 8, 'ODD', 10]"
      ]
     },
     "execution_count": 83,
     "metadata": {},
     "output_type": "execute_result"
    }
   ],
   "source": [
    "results"
   ]
  },
  {
   "cell_type": "code",
   "execution_count": 87,
   "id": "2ac7f6af-81c2-40b8-9b59-35ce1332bbc9",
   "metadata": {},
   "outputs": [
    {
     "data": {
      "text/plain": [
       "[2, 20, 2000, 4, 40, 4000, 6, 60, 6000]"
      ]
     },
     "execution_count": 87,
     "metadata": {},
     "output_type": "execute_result"
    }
   ],
   "source": [
    "#Nested loops can also be set up in list comprehension - Take it easy first as it can be quite confusing\n",
    "\n",
    "mylist = []\n",
    "\n",
    "for x in [2,4,6]:\n",
    "    for y in [1,10, 1000]:\n",
    "      mylist.append(x*y)\n",
    "mylist        "
   ]
  },
  {
   "cell_type": "code",
   "execution_count": 89,
   "id": "314fd8c5-9ee4-4d65-9ff2-04d214597d08",
   "metadata": {},
   "outputs": [],
   "source": [
    "mylist = [x*y for x in [2,4,6] for y in [1,10, 1000]]"
   ]
  },
  {
   "cell_type": "code",
   "execution_count": 91,
   "id": "881bfdec-6da8-4050-9e61-dddfb4581f74",
   "metadata": {},
   "outputs": [
    {
     "data": {
      "text/plain": [
       "[2, 20, 2000, 4, 40, 4000, 6, 60, 6000]"
      ]
     },
     "execution_count": 91,
     "metadata": {},
     "output_type": "execute_result"
    }
   ],
   "source": [
    "mylist"
   ]
  },
  {
   "cell_type": "code",
   "execution_count": null,
   "id": "b92b1301-0f68-4e44-96de-4db9b7f01cbb",
   "metadata": {},
   "outputs": [],
   "source": []
  }
 ],
 "metadata": {
  "kernelspec": {
   "display_name": "Python 3 (ipykernel)",
   "language": "python",
   "name": "python3"
  },
  "language_info": {
   "codemirror_mode": {
    "name": "ipython",
    "version": 3
   },
   "file_extension": ".py",
   "mimetype": "text/x-python",
   "name": "python",
   "nbconvert_exporter": "python",
   "pygments_lexer": "ipython3",
   "version": "3.12.4"
  }
 },
 "nbformat": 4,
 "nbformat_minor": 5
}
