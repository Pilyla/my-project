{
 "cells": [
  {
   "cell_type": "code",
   "execution_count": 7,
   "id": "7a909a56-b751-4c3b-ab0c-a1f14b5c2257",
   "metadata": {},
   "outputs": [],
   "source": [
    "stock_prices = [('APPL',200),('GOOG',400),('MSFT',100)]"
   ]
  },
  {
   "cell_type": "code",
   "execution_count": 9,
   "id": "d72e9044-17cb-493d-8644-441ff06a6591",
   "metadata": {},
   "outputs": [
    {
     "name": "stdout",
     "output_type": "stream",
     "text": [
      "('APPL', 200)\n",
      "('GOOG', 400)\n",
      "('MSFT', 100)\n"
     ]
    }
   ],
   "source": [
    "for item in stock_prices:\n",
    "    print(item)"
   ]
  },
  {
   "cell_type": "code",
   "execution_count": 11,
   "id": "5075ee35-2cb3-428e-afa5-3098deca5968",
   "metadata": {},
   "outputs": [
    {
     "name": "stdout",
     "output_type": "stream",
     "text": [
      "APPL\n",
      "GOOG\n",
      "MSFT\n"
     ]
    }
   ],
   "source": [
    "#unpacking tuples with a for loop\n",
    "for ticket, price in stock_prices:\n",
    "    print(ticket)"
   ]
  },
  {
   "cell_type": "code",
   "execution_count": 13,
   "id": "88b7330f-b4bc-4c15-8dcf-6a611f67560f",
   "metadata": {},
   "outputs": [
    {
     "name": "stdout",
     "output_type": "stream",
     "text": [
      "220.0\n",
      "440.0\n",
      "110.0\n"
     ]
    }
   ],
   "source": [
    "for ticket, price in stock_prices:\n",
    "    print(price + (0.1*price)) #how a 10% increase in price look like"
   ]
  },
  {
   "cell_type": "code",
   "execution_count": 45,
   "id": "3f311549-3b0a-486a-8a7b-79738fd53c44",
   "metadata": {},
   "outputs": [],
   "source": [
    "#unpacking tuples with a function\n",
    "work_hrs = [('Sami', 100),('Luna', 110), ('Mama', 700), ('Papa', 700)]"
   ]
  },
  {
   "cell_type": "code",
   "execution_count": 47,
   "id": "8ffc07c3-d680-4683-8dc7-7a0a6559f6c7",
   "metadata": {},
   "outputs": [],
   "source": [
    "def employee_check(work_hrs):\n",
    "\n",
    "    current_max = 0\n",
    "    employee_of_month = ''\n",
    "\n",
    "    for employee,hrs in work_hrs:\n",
    "        if hrs > current_max:\n",
    "            current_max = hrs\n",
    "            employee_of_month = employee\n",
    "        else:\n",
    "            pass\n",
    "\n",
    "    #Return\n",
    "    return (employee_of_month, current_max)"
   ]
  },
  {
   "cell_type": "code",
   "execution_count": 49,
   "id": "98b2b822-8d0e-40cc-8700-96b1b3cf2280",
   "metadata": {},
   "outputs": [
    {
     "data": {
      "text/plain": [
       "('Mama', 700)"
      ]
     },
     "execution_count": 49,
     "metadata": {},
     "output_type": "execute_result"
    }
   ],
   "source": [
    "employee_check(work_hrs)"
   ]
  },
  {
   "cell_type": "code",
   "execution_count": 51,
   "id": "9f7b0ed9-d608-4ad9-a26a-47a883cb544e",
   "metadata": {},
   "outputs": [],
   "source": [
    "winner = employee_check(work_hrs)"
   ]
  },
  {
   "cell_type": "code",
   "execution_count": 53,
   "id": "f5dc1600-ae37-402d-ae03-ae824f2fc0dc",
   "metadata": {},
   "outputs": [
    {
     "data": {
      "text/plain": [
       "('Mama', 700)"
      ]
     },
     "execution_count": 53,
     "metadata": {},
     "output_type": "execute_result"
    }
   ],
   "source": [
    "winner"
   ]
  },
  {
   "cell_type": "code",
   "execution_count": 55,
   "id": "bbd81d22-7e18-4241-9b54-ee69ff154793",
   "metadata": {},
   "outputs": [],
   "source": [
    "name, hours = employee_check(work_hrs)"
   ]
  },
  {
   "cell_type": "code",
   "execution_count": 57,
   "id": "50a3bbb4-541f-4ad6-ab3c-b20ef6ae5eed",
   "metadata": {},
   "outputs": [
    {
     "data": {
      "text/plain": [
       "'Mama'"
      ]
     },
     "execution_count": 57,
     "metadata": {},
     "output_type": "execute_result"
    }
   ],
   "source": [
    "name"
   ]
  },
  {
   "cell_type": "code",
   "execution_count": 59,
   "id": "e8a191ec-875e-4fd8-8fb1-2e25b85e4a8d",
   "metadata": {},
   "outputs": [
    {
     "data": {
      "text/plain": [
       "700"
      ]
     },
     "execution_count": 59,
     "metadata": {},
     "output_type": "execute_result"
    }
   ],
   "source": [
    "hours"
   ]
  },
  {
   "cell_type": "code",
   "execution_count": null,
   "id": "d7e435aa-52af-44e7-af96-4ba75bb6d060",
   "metadata": {},
   "outputs": [],
   "source": []
  }
 ],
 "metadata": {
  "kernelspec": {
   "display_name": "Python 3 (ipykernel)",
   "language": "python",
   "name": "python3"
  },
  "language_info": {
   "codemirror_mode": {
    "name": "ipython",
    "version": 3
   },
   "file_extension": ".py",
   "mimetype": "text/x-python",
   "name": "python",
   "nbconvert_exporter": "python",
   "pygments_lexer": "ipython3",
   "version": "3.12.4"
  }
 },
 "nbformat": 4,
 "nbformat_minor": 5
}
