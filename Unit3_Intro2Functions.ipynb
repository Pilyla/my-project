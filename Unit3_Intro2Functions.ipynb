{
 "cells": [
  {
   "cell_type": "code",
   "execution_count": 3,
   "id": "5ea60fdb-a797-4d22-aca9-1e7a6ca34c23",
   "metadata": {},
   "outputs": [],
   "source": [
    "def check_even_list(num_list):\n",
    "\n",
    "    for number in num_list:\n",
    "        if number % 2 == 0:\n",
    "            return True\n",
    "        else:\n",
    "            return False #This is Wrong! as the 1st time that encounters an odd number will return false and exit without checking the rest\n",
    "            #pass\n",
    "                    "
   ]
  },
  {
   "cell_type": "code",
   "execution_count": 5,
   "id": "bce82902-d57a-4594-80cf-0fa2262abf55",
   "metadata": {},
   "outputs": [],
   "source": [
    "check_even_list([1,3,5,9])"
   ]
  },
  {
   "cell_type": "code",
   "execution_count": 7,
   "id": "08c5fa6b-9ecc-449b-b1a0-1cff5b6cf9c3",
   "metadata": {},
   "outputs": [
    {
     "data": {
      "text/plain": [
       "True"
      ]
     },
     "execution_count": 7,
     "metadata": {},
     "output_type": "execute_result"
    }
   ],
   "source": [
    "check_even_list([2,3,7])"
   ]
  },
  {
   "cell_type": "code",
   "execution_count": 11,
   "id": "65c9fc3d-75ce-4cbc-b265-cbe8e586db7a",
   "metadata": {},
   "outputs": [
    {
     "data": {
      "text/plain": [
       "True"
      ]
     },
     "execution_count": 11,
     "metadata": {},
     "output_type": "execute_result"
    }
   ],
   "source": [
    "check_even_list([5,15,2])"
   ]
  },
  {
   "cell_type": "code",
   "execution_count": 21,
   "id": "a024dcbd-cf4d-420e-aaaa-0cfb301156f2",
   "metadata": {},
   "outputs": [],
   "source": [
    "def check_even_list(num_list):\n",
    "    # return all the even numers in a list\n",
    "\n",
    "    #place_holder variable\n",
    "    even_numbers = []\n",
    "    \n",
    "    for number in num_list:\n",
    "        if number % 2 == 0:\n",
    "            even_numbers.append(number)\n",
    "        else:\n",
    "            pass\n",
    "\n",
    "    return even_numbers"
   ]
  },
  {
   "cell_type": "code",
   "execution_count": 23,
   "id": "14da173b-ddfd-4eeb-a887-8d7c2664334b",
   "metadata": {},
   "outputs": [
    {
     "data": {
      "text/plain": [
       "[4, 2]"
      ]
     },
     "execution_count": 23,
     "metadata": {},
     "output_type": "execute_result"
    }
   ],
   "source": [
    "check_even_list([1,4,1,2])"
   ]
  },
  {
   "cell_type": "code",
   "execution_count": 25,
   "id": "c1dd0a20-0352-47ee-af9a-e171e3dec2e7",
   "metadata": {},
   "outputs": [
    {
     "data": {
      "text/plain": [
       "[]"
      ]
     },
     "execution_count": 25,
     "metadata": {},
     "output_type": "execute_result"
    }
   ],
   "source": [
    "check_even_list([1,1,1])"
   ]
  },
  {
   "cell_type": "code",
   "execution_count": null,
   "id": "e9e908f9-ac8d-4f39-99fe-3b91bc82f904",
   "metadata": {},
   "outputs": [],
   "source": []
  }
 ],
 "metadata": {
  "kernelspec": {
   "display_name": "Python 3 (ipykernel)",
   "language": "python",
   "name": "python3"
  },
  "language_info": {
   "codemirror_mode": {
    "name": "ipython",
    "version": 3
   },
   "file_extension": ".py",
   "mimetype": "text/x-python",
   "name": "python",
   "nbconvert_exporter": "python",
   "pygments_lexer": "ipython3",
   "version": "3.12.4"
  }
 },
 "nbformat": 4,
 "nbformat_minor": 5
}
