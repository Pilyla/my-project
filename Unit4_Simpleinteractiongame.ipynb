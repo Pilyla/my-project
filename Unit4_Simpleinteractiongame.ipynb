{
 "cells": [
  {
   "cell_type": "code",
   "execution_count": 4,
   "id": "9f6b2a8d-7b74-4391-99ad-f377aa7ff882",
   "metadata": {},
   "outputs": [],
   "source": [
    "#Simple interactive game"
   ]
  },
  {
   "cell_type": "code",
   "execution_count": 6,
   "id": "d98e1cd3-afe0-4874-8ad7-4dde7f1f4ccc",
   "metadata": {},
   "outputs": [],
   "source": [
    "def display_game(game_list):\n",
    "\n",
    "    print('Here is the current list: ')\n",
    "    print(game_list)"
   ]
  },
  {
   "cell_type": "code",
   "execution_count": 8,
   "id": "0f78399b-32eb-4175-ae63-7af97e6846ca",
   "metadata": {},
   "outputs": [],
   "source": [
    "def position_choice():\n",
    "\n",
    "    acceptable_values = ['0','1','2']\n",
    "    choice = 'wrong'\n",
    "\n",
    "    while choice not in acceptable_values:\n",
    "\n",
    "        choice = input('Pick a position (0,1,2): ')\n",
    "\n",
    "        if choice not in acceptable_values:\n",
    "            print('Sorry, invalid choice!')\n",
    "\n",
    "    return int(choice)\n"
   ]
  },
  {
   "cell_type": "code",
   "execution_count": 10,
   "id": "60bc71ba-c09a-4fa1-a34f-25212e84fb01",
   "metadata": {},
   "outputs": [],
   "source": [
    "def replacement_choice(game_list, position):\n",
    "    \n",
    "    user_placement = input('Type a new value to place at position: ')\n",
    "\n",
    "    game_list[position] = user_placement\n",
    "\n",
    "    return game_list"
   ]
  },
  {
   "cell_type": "code",
   "execution_count": 12,
   "id": "a06868b7-ad5e-430e-89ac-7f66582262cb",
   "metadata": {},
   "outputs": [],
   "source": [
    "def gameon_choice():\n",
    "\n",
    "    acceptable_values = ['Y','N']\n",
    "    choice = 'wrong'\n",
    "\n",
    "    while choice.upper() not in acceptable_values:\n",
    "\n",
    "        choice = input('Do you want to keep playing (Y or N): ')\n",
    "\n",
    "        if choice.upper() not in acceptable_values:\n",
    "            print('Sorry, I dont understand, please choose Y or N')\n",
    "            \n",
    "    if choice.upper() == 'Y':\n",
    "      return True  \n",
    "    else:\n",
    "      return False  "
   ]
  },
  {
   "cell_type": "code",
   "execution_count": 18,
   "id": "060941b4-3428-458f-9c91-85f60ac5270a",
   "metadata": {},
   "outputs": [
    {
     "name": "stdout",
     "output_type": "stream",
     "text": [
      "Here is the current list: \n",
      "[0, 1, 2]\n"
     ]
    },
    {
     "name": "stdin",
     "output_type": "stream",
     "text": [
      "Pick a position (0,1,2):  2\n",
      "Type a new value to place at position:  pop\n"
     ]
    },
    {
     "name": "stdout",
     "output_type": "stream",
     "text": [
      "Here is the current list: \n",
      "[0, 1, 'pop']\n"
     ]
    },
    {
     "name": "stdin",
     "output_type": "stream",
     "text": [
      "Do you want to keep playing (Y or N):  y\n"
     ]
    },
    {
     "name": "stdout",
     "output_type": "stream",
     "text": [
      "Here is the current list: \n",
      "[0, 1, 'pop']\n"
     ]
    },
    {
     "name": "stdin",
     "output_type": "stream",
     "text": [
      "Pick a position (0,1,2):  2\n",
      "Type a new value to place at position:  2\n"
     ]
    },
    {
     "name": "stdout",
     "output_type": "stream",
     "text": [
      "Here is the current list: \n",
      "[0, 1, '2']\n"
     ]
    },
    {
     "name": "stdin",
     "output_type": "stream",
     "text": [
      "Do you want to keep playing (Y or N):  Y\n"
     ]
    },
    {
     "name": "stdout",
     "output_type": "stream",
     "text": [
      "Here is the current list: \n",
      "[0, 1, '2']\n"
     ]
    },
    {
     "name": "stdin",
     "output_type": "stream",
     "text": [
      "Pick a position (0,1,2):  1\n",
      "Type a new value to place at position:  test\n"
     ]
    },
    {
     "name": "stdout",
     "output_type": "stream",
     "text": [
      "Here is the current list: \n",
      "[0, 'test', '2']\n"
     ]
    },
    {
     "name": "stdin",
     "output_type": "stream",
     "text": [
      "Do you want to keep playing (Y or N):  N\n"
     ]
    }
   ],
   "source": [
    "# Main code for the game - calling all the functions\n",
    "\n",
    "game_on = True\n",
    "game_list = [0,1,2]\n",
    "\n",
    "while game_on:\n",
    "\n",
    "    display_game(game_list)\n",
    "\n",
    "    position = position_choice()\n",
    "\n",
    "    game_list = replacement_choice(game_list, position)\n",
    "\n",
    "    display_game(game_list)\n",
    "\n",
    "    game_on = gameon_choice()\n"
   ]
  },
  {
   "cell_type": "code",
   "execution_count": null,
   "id": "2dfeb89b-5059-4e53-9829-c60e91127f86",
   "metadata": {},
   "outputs": [],
   "source": []
  }
 ],
 "metadata": {
  "kernelspec": {
   "display_name": "Python 3 (ipykernel)",
   "language": "python",
   "name": "python3"
  },
  "language_info": {
   "codemirror_mode": {
    "name": "ipython",
    "version": 3
   },
   "file_extension": ".py",
   "mimetype": "text/x-python",
   "name": "python",
   "nbconvert_exporter": "python",
   "pygments_lexer": "ipython3",
   "version": "3.12.4"
  }
 },
 "nbformat": 4,
 "nbformat_minor": 5
}
