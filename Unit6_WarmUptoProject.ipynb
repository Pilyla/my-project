{
 "cells": [
  {
   "cell_type": "code",
   "execution_count": 5,
   "id": "5121ee7e-7d62-4405-a693-6e100e0f2ad9",
   "metadata": {},
   "outputs": [],
   "source": [
    "#Function to display info\n",
    "def display_board(row1, row2, row3):\n",
    "    print(row1)\n",
    "    print(row2)\n",
    "    print(row3)\n",
    "    "
   ]
  },
  {
   "cell_type": "code",
   "execution_count": 10,
   "id": "db7ab5eb-3222-4e09-8171-6436f7a3ac78",
   "metadata": {},
   "outputs": [
    {
     "name": "stdout",
     "output_type": "stream",
     "text": [
      "[1, 2, 3]\n",
      "[1, 2, 3]\n",
      "[1, 2, 3]\n"
     ]
    }
   ],
   "source": [
    "ex_row = [1,2,3]\n",
    "display(ex_row, ex_row, ex_row)"
   ]
  },
  {
   "cell_type": "code",
   "execution_count": 22,
   "id": "8171ffbc-87c0-49d3-821d-1db759edf8bc",
   "metadata": {},
   "outputs": [],
   "source": [
    "row1 = [1,2,3]\n",
    "row2 = [' ',' ',' ']\n",
    "row3 = [' ',' ',' ']\n"
   ]
  },
  {
   "cell_type": "code",
   "execution_count": 38,
   "id": "5f802488-34c3-4cc6-b47c-4227f6913184",
   "metadata": {},
   "outputs": [],
   "source": [
    "row2[1] = 'X'"
   ]
  },
  {
   "cell_type": "code",
   "execution_count": 42,
   "id": "a89561d5-5df3-4323-b846-d2490c5c57bc",
   "metadata": {},
   "outputs": [
    {
     "name": "stdout",
     "output_type": "stream",
     "text": [
      "[' ', ' ', ' ']\n",
      "[' ', 'X', ' ']\n",
      "[' ', ' ', ' ']\n"
     ]
    }
   ],
   "source": [
    "display(row1,row2,row3) #This will display a very rudimentary TicTacToe"
   ]
  },
  {
   "cell_type": "code",
   "execution_count": 44,
   "id": "7c2f98a1-5854-4362-b304-0dfa1dac6191",
   "metadata": {},
   "outputs": [
    {
     "name": "stdin",
     "output_type": "stream",
     "text": [
      "Please enter a value:  2\n"
     ]
    },
    {
     "data": {
      "text/plain": [
       "'2'"
      ]
     },
     "execution_count": 44,
     "metadata": {},
     "output_type": "execute_result"
    }
   ],
   "source": [
    "#Now let's ask the user for input\n",
    "input('Please enter a value: ')"
   ]
  },
  {
   "cell_type": "code",
   "execution_count": 46,
   "id": "5f0c0988-0cb7-42d6-8086-162df4610f7e",
   "metadata": {},
   "outputs": [
    {
     "name": "stdin",
     "output_type": "stream",
     "text": [
      "Please enter a value:  3\n"
     ]
    }
   ],
   "source": [
    "result = input('Please enter a value: ')"
   ]
  },
  {
   "cell_type": "code",
   "execution_count": 48,
   "id": "a4e17f3b-704e-4057-a876-ec8caaac7f5a",
   "metadata": {},
   "outputs": [
    {
     "data": {
      "text/plain": [
       "str"
      ]
     },
     "execution_count": 48,
     "metadata": {},
     "output_type": "execute_result"
    }
   ],
   "source": [
    "type(result)"
   ]
  },
  {
   "cell_type": "code",
   "execution_count": 50,
   "id": "b8038fdc-e826-48c2-9187-f405e7961b1c",
   "metadata": {},
   "outputs": [
    {
     "name": "stdin",
     "output_type": "stream",
     "text": [
      "Please enter a value:  5\n"
     ]
    }
   ],
   "source": [
    "result = int(input('Please enter a value: '))"
   ]
  },
  {
   "cell_type": "code",
   "execution_count": 52,
   "id": "5cdb6f49-4d16-40ab-8a6e-9cbb41ebe833",
   "metadata": {},
   "outputs": [
    {
     "data": {
      "text/plain": [
       "int"
      ]
     },
     "execution_count": 52,
     "metadata": {},
     "output_type": "execute_result"
    }
   ],
   "source": [
    "type(result)"
   ]
  },
  {
   "cell_type": "code",
   "execution_count": 72,
   "id": "b5035783-c4d9-4d35-8bfa-3df37a5f061f",
   "metadata": {},
   "outputs": [],
   "source": [
    "#validate user's choice\n",
    "def user_choice():\n",
    "\n",
    "    #Initial set up variables\n",
    "    choice = 'wrong' #anything that is not a digit will work here\n",
    "    acceptable_range = range(0,11)\n",
    "    within_range = False\n",
    "\n",
    "    #TWO CONDITIONS TO CHECK\n",
    "    #DIGIT OR within_range == False\n",
    "\n",
    "    while choice.isdigit() == False or not within_range:\n",
    "        \n",
    "        choice = input('Please enter a number (0-10)')\n",
    "\n",
    "        if choice.isdigit() == False:\n",
    "            print('Sorry that is not a number!')\n",
    "        else:\n",
    "            if int(choice) in acceptable_range:\n",
    "                within_range = True\n",
    "            else:\n",
    "                print('Number is out of range!')\n",
    "\n",
    "    return int(choice)"
   ]
  },
  {
   "cell_type": "code",
   "execution_count": 78,
   "id": "ec8c69cd-2417-49d2-8cc7-de425b9738c9",
   "metadata": {},
   "outputs": [
    {
     "name": "stdin",
     "output_type": "stream",
     "text": [
      "Please enter a number (0-10) 11\n"
     ]
    },
    {
     "name": "stdout",
     "output_type": "stream",
     "text": [
      "Number is out of range!\n"
     ]
    },
    {
     "name": "stdin",
     "output_type": "stream",
     "text": [
      "Please enter a number (0-10) 2\\\n"
     ]
    },
    {
     "name": "stdout",
     "output_type": "stream",
     "text": [
      "Sorry that is not a number!\n"
     ]
    },
    {
     "name": "stdin",
     "output_type": "stream",
     "text": [
      "Please enter a number (0-10) 2\n"
     ]
    },
    {
     "data": {
      "text/plain": [
       "2"
      ]
     },
     "execution_count": 78,
     "metadata": {},
     "output_type": "execute_result"
    }
   ],
   "source": [
    "user_choice()"
   ]
  },
  {
   "cell_type": "code",
   "execution_count": null,
   "id": "73d46984-eebf-47e9-81e1-53f449a7f7b9",
   "metadata": {},
   "outputs": [],
   "source": []
  }
 ],
 "metadata": {
  "kernelspec": {
   "display_name": "Python 3 (ipykernel)",
   "language": "python",
   "name": "python3"
  },
  "language_info": {
   "codemirror_mode": {
    "name": "ipython",
    "version": 3
   },
   "file_extension": ".py",
   "mimetype": "text/x-python",
   "name": "python",
   "nbconvert_exporter": "python",
   "pygments_lexer": "ipython3",
   "version": "3.12.4"
  }
 },
 "nbformat": 4,
 "nbformat_minor": 5
}
