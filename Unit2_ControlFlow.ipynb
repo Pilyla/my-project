{
 "cells": [
  {
   "cell_type": "code",
   "execution_count": 1,
   "id": "72c66186-556e-4e80-9235-e5d711e53539",
   "metadata": {},
   "outputs": [
    {
     "data": {
      "text/plain": [
       "False"
      ]
     },
     "execution_count": 1,
     "metadata": {},
     "output_type": "execute_result"
    }
   ],
   "source": [
    "'2' == 2"
   ]
  },
  {
   "cell_type": "code",
   "execution_count": 3,
   "id": "d7580e7f-337f-47e7-8b31-f2204b3bc7a7",
   "metadata": {},
   "outputs": [
    {
     "data": {
      "text/plain": [
       "False"
      ]
     },
     "execution_count": 3,
     "metadata": {},
     "output_type": "execute_result"
    }
   ],
   "source": [
    "3 != 3"
   ]
  },
  {
   "cell_type": "code",
   "execution_count": 7,
   "id": "dc7e3fb4-c4da-499b-b960-f8aabc956794",
   "metadata": {},
   "outputs": [
    {
     "name": "stdout",
     "output_type": "stream",
     "text": [
      "I am not hungry\n"
     ]
    }
   ],
   "source": [
    "hungry = False\n",
    "\n",
    "if hungry:\n",
    "    print('FEED ME')\n",
    "else:\n",
    "    print('I am not hungry')\n"
   ]
  },
  {
   "cell_type": "code",
   "execution_count": 15,
   "id": "27bbe467-719a-4e5c-9cb2-d95f1d8fb0eb",
   "metadata": {},
   "outputs": [
    {
     "name": "stdout",
     "output_type": "stream",
     "text": [
      "Hello Sammy!\n"
     ]
    }
   ],
   "source": [
    "name = 'Sammy'\n",
    "\n",
    "if name == 'Frankie':\n",
    "    print(\"Hello Frankie!\")\n",
    "elif name == 'Luna':\n",
    "    print(\"Hello Luna!\")\n",
    "elif name == 'Sammy':\n",
    "    print(\"Hello Sammy!\")\n",
    "else: \n",
    "    print(\"What is your name\")\n",
    "    "
   ]
  },
  {
   "cell_type": "code",
   "execution_count": 3,
   "id": "5642c386-4ade-4abd-a950-8793e086ac4c",
   "metadata": {},
   "outputs": [],
   "source": [
    "#For Loops\n",
    "mylist = [1,2,3,4,5,6,7,8,9,10]"
   ]
  },
  {
   "cell_type": "code",
   "execution_count": 5,
   "id": "37379ec2-40bc-4e5f-a3f0-1e8d6952d497",
   "metadata": {},
   "outputs": [
    {
     "name": "stdout",
     "output_type": "stream",
     "text": [
      "1\n",
      "2\n",
      "3\n",
      "4\n",
      "5\n",
      "6\n",
      "7\n",
      "8\n",
      "9\n",
      "10\n"
     ]
    }
   ],
   "source": [
    "for item in mylist:\n",
    "    print(item)"
   ]
  },
  {
   "cell_type": "code",
   "execution_count": 7,
   "id": "5eacb1a8-e777-4068-8913-a883fca2c17c",
   "metadata": {},
   "outputs": [
    {
     "name": "stdout",
     "output_type": "stream",
     "text": [
      "1\n",
      "2\n",
      "3\n",
      "4\n",
      "5\n",
      "6\n",
      "7\n",
      "8\n",
      "9\n",
      "10\n"
     ]
    }
   ],
   "source": [
    "for num in mylist:\n",
    "    print(num)"
   ]
  },
  {
   "cell_type": "code",
   "execution_count": 9,
   "id": "fdd4a9d9-0141-4b39-80ab-c2c4aabd296b",
   "metadata": {},
   "outputs": [
    {
     "name": "stdout",
     "output_type": "stream",
     "text": [
      "hi\n",
      "hi\n",
      "hi\n",
      "hi\n",
      "hi\n",
      "hi\n",
      "hi\n",
      "hi\n",
      "hi\n",
      "hi\n"
     ]
    }
   ],
   "source": [
    "for item in mylist:\n",
    "    print('hi')"
   ]
  },
  {
   "cell_type": "code",
   "execution_count": 21,
   "id": "d9da895c-404c-48dd-b68c-dfe59c9e7e96",
   "metadata": {},
   "outputs": [
    {
     "name": "stdout",
     "output_type": "stream",
     "text": [
      " Odd number: 1\n",
      "2\n",
      " Odd number: 3\n",
      "4\n",
      " Odd number: 5\n",
      "6\n",
      " Odd number: 7\n",
      "8\n",
      " Odd number: 9\n",
      "10\n"
     ]
    }
   ],
   "source": [
    "for item in mylist:\n",
    "    #check for even number\n",
    "    if item % 2 == 0:\n",
    "        print(item)\n",
    "    else:\n",
    "        print(f' Odd number: {item}')"
   ]
  },
  {
   "cell_type": "code",
   "execution_count": 23,
   "id": "32f40249-d3a1-4f1c-b2bc-bd517c75cb73",
   "metadata": {},
   "outputs": [
    {
     "name": "stdout",
     "output_type": "stream",
     "text": [
      "55\n"
     ]
    }
   ],
   "source": [
    "list_sum = 0\n",
    "\n",
    "for num in mylist:\n",
    "    list_sum = list_sum + num\n",
    "\n",
    "print(list_sum)\n",
    "\n"
   ]
  },
  {
   "cell_type": "code",
   "execution_count": 25,
   "id": "e7849edc-23ac-486f-bd95-d878759598b9",
   "metadata": {},
   "outputs": [
    {
     "name": "stdout",
     "output_type": "stream",
     "text": [
      "1\n",
      "3\n",
      "6\n",
      "10\n",
      "15\n",
      "21\n",
      "28\n",
      "36\n",
      "45\n",
      "55\n"
     ]
    }
   ],
   "source": [
    "# just like above but indentation of print just changed and became part of the For loop\n",
    "\n",
    "list_sum = 0\n",
    "\n",
    "for num in mylist:\n",
    "    list_sum = list_sum + num\n",
    "\n",
    "    print(list_sum)\n"
   ]
  },
  {
   "cell_type": "code",
   "execution_count": 27,
   "id": "1d6b9a09-1a12-4820-9be3-150aa048f040",
   "metadata": {},
   "outputs": [
    {
     "name": "stdout",
     "output_type": "stream",
     "text": [
      "H\n",
      "o\n",
      "l\n",
      "a\n",
      " \n",
      "M\n",
      "u\n",
      "n\n",
      "d\n",
      "o\n"
     ]
    }
   ],
   "source": [
    "#with strings\\\n",
    "\n",
    "my_string= 'Hola Mundo'\n",
    "\n",
    "for letter in my_string:\n",
    "    print(letter)"
   ]
  },
  {
   "cell_type": "code",
   "execution_count": 31,
   "id": "e4566bf1-3511-4ee1-8b82-f53805c585ea",
   "metadata": {},
   "outputs": [
    {
     "name": "stdout",
     "output_type": "stream",
     "text": [
      "H\n",
      "e\n",
      "l\n",
      "l\n",
      "o\n",
      " \n",
      "W\n",
      "o\n",
      "r\n",
      "l\n",
      "d\n"
     ]
    }
   ],
   "source": [
    "#technically you dont have to assign a variable name to the string\n",
    "\n",
    "for letter in 'Hello World':\n",
    "    print(letter)"
   ]
  },
  {
   "cell_type": "code",
   "execution_count": 35,
   "id": "ee83f8c1-a99e-411c-93dc-5135dd70e5c8",
   "metadata": {},
   "outputs": [
    {
     "name": "stdout",
     "output_type": "stream",
     "text": [
      "Cool!\n",
      "Cool!\n",
      "Cool!\n",
      "Cool!\n",
      "Cool!\n",
      "Cool!\n",
      "Cool!\n",
      "Cool!\n",
      "Cool!\n",
      "Cool!\n",
      "Cool!\n"
     ]
    }
   ],
   "source": [
    "#additionally you dont have to use a variable for the lopp if you are not going to use it later\n",
    "\n",
    "for _ in 'Hello World':\n",
    "    print('Cool!')"
   ]
  },
  {
   "cell_type": "code",
   "execution_count": 45,
   "id": "4cdc42a4-9010-47aa-8319-544b3a83443e",
   "metadata": {},
   "outputs": [
    {
     "name": "stdout",
     "output_type": "stream",
     "text": [
      "1\n",
      "2\n",
      "3\n"
     ]
    }
   ],
   "source": [
    "#tupples have a special packing when it comes to For Loops - you duplicate the structure of \n",
    "#the object you're unpacking and you can have access to each element\n",
    "\n",
    "tup = (1,2,3)\n",
    "\n",
    "for item in tup:\n",
    "    print(item)"
   ]
  },
  {
   "cell_type": "code",
   "execution_count": 39,
   "id": "ce9dd9c6-5d5c-437e-8d6e-2c029a8e620f",
   "metadata": {},
   "outputs": [
    {
     "data": {
      "text/plain": [
       "4"
      ]
     },
     "execution_count": 39,
     "metadata": {},
     "output_type": "execute_result"
    }
   ],
   "source": [
    "mylist = [(1,2),(3,4),(5,6), (7,8)]\n",
    "len(mylist)"
   ]
  },
  {
   "cell_type": "code",
   "execution_count": 41,
   "id": "bfa0e373-e074-4ffc-bebb-b99a4ff36263",
   "metadata": {},
   "outputs": [
    {
     "name": "stdout",
     "output_type": "stream",
     "text": [
      "(1, 2)\n",
      "(3, 4)\n",
      "(5, 6)\n",
      "(7, 8)\n"
     ]
    }
   ],
   "source": [
    "for item in mylist:\n",
    "    print(item)"
   ]
  },
  {
   "cell_type": "code",
   "execution_count": 43,
   "id": "af060a6d-4fd4-49a1-af92-6f157849f2e5",
   "metadata": {},
   "outputs": [
    {
     "name": "stdout",
     "output_type": "stream",
     "text": [
      "1\n",
      "2\n",
      "3\n",
      "4\n",
      "5\n",
      "6\n",
      "7\n",
      "8\n"
     ]
    }
   ],
   "source": [
    "for (a,b) in mylist:\n",
    "    print(a)\n",
    "    print(b)"
   ]
  },
  {
   "cell_type": "code",
   "execution_count": 47,
   "id": "12acc93f-f136-4b09-81c0-e3a8be5abdf6",
   "metadata": {},
   "outputs": [
    {
     "name": "stdout",
     "output_type": "stream",
     "text": [
      "2\n",
      "4\n",
      "6\n",
      "8\n"
     ]
    }
   ],
   "source": [
    "for a,b in mylist:\n",
    "    print(b)"
   ]
  },
  {
   "cell_type": "code",
   "execution_count": 49,
   "id": "66ff7dda-8072-4708-aaea-88cf5d9ede6e",
   "metadata": {},
   "outputs": [
    {
     "name": "stdout",
     "output_type": "stream",
     "text": [
      "3\n",
      "6\n",
      "9\n"
     ]
    }
   ],
   "source": [
    "mylist = [(1,2,3), (4,5,6), (7,8,9)]\n",
    "for x, y, a in mylist:\n",
    "    print(a)"
   ]
  },
  {
   "cell_type": "code",
   "execution_count": 51,
   "id": "c85342eb-dad1-4cbc-9e2c-438826f0af22",
   "metadata": {},
   "outputs": [
    {
     "name": "stdout",
     "output_type": "stream",
     "text": [
      "('k1', 1)\n",
      "('k2', 2)\n",
      "('k3', 3)\n"
     ]
    }
   ],
   "source": [
    "# dictionaries and for loop\n",
    "\n",
    "d = {'k1':1, 'k2':2, 'k3':3}\n",
    "\n",
    "for item in d.items():\n",
    "    print(item)"
   ]
  },
  {
   "cell_type": "code",
   "execution_count": 53,
   "id": "d457fff7-e5bb-4114-b6a3-58f79c5c399f",
   "metadata": {},
   "outputs": [
    {
     "name": "stdout",
     "output_type": "stream",
     "text": [
      "1\n",
      "2\n",
      "3\n"
     ]
    }
   ],
   "source": [
    "#better we can use the same unpacking technique as above \n",
    "\n",
    "for key,value in d.items():\n",
    "    print(value)"
   ]
  },
  {
   "cell_type": "code",
   "execution_count": 57,
   "id": "4b19757f-a0bc-42c4-8e2d-77d1f9b74058",
   "metadata": {},
   "outputs": [
    {
     "name": "stdout",
     "output_type": "stream",
     "text": [
      "1\n",
      "2\n",
      "3\n"
     ]
    }
   ],
   "source": [
    "#if you only want the values\n",
    "\n",
    "for value in d.values():\n",
    "    print(value)"
   ]
  },
  {
   "cell_type": "code",
   "execution_count": 67,
   "id": "d6a14c6a-c006-472d-b8c5-2df2d0f8b32a",
   "metadata": {},
   "outputs": [
    {
     "name": "stdout",
     "output_type": "stream",
     "text": [
      " the current value of x is 0\n",
      " the current value of x is 1\n",
      " the current value of x is 2\n",
      " the current value of x is 3\n",
      " the current value of x is 4\n",
      "x is bigger than 4\n"
     ]
    }
   ],
   "source": [
    "#While loops\n",
    "x=0\n",
    "\n",
    "while x < 5:\n",
    "    print(f' the current value of x is {x}')\n",
    "    #x = x + 1\n",
    "    x+=1\n",
    "else:\n",
    "    print('x is bigger than 4')"
   ]
  },
  {
   "cell_type": "code",
   "execution_count": 77,
   "id": "5c530075-3118-4d42-bb14-83cb2b9f1612",
   "metadata": {},
   "outputs": [
    {
     "name": "stdout",
     "output_type": "stream",
     "text": [
      "end of my script\n"
     ]
    }
   ],
   "source": [
    "# we can use pass, continue or break statements in por loops to add additional functionality \n",
    "# pass: does nothing\n",
    "# continue: goes to the top of the current closest enclosing loop \n",
    "# break: breakout of current closest enclosing loop\n",
    "\n",
    "x = [1,2,3]\n",
    "\n",
    "for item in x:\n",
    "    # if you leave this just with a comment will get an error, so you need a place holder - pass\n",
    "    pass\n",
    "print ('end of my script')    "
   ]
  },
  {
   "cell_type": "code",
   "execution_count": 75,
   "id": "b0757ffc-4eec-4be2-868c-c22a7bf68bf1",
   "metadata": {},
   "outputs": [
    {
     "name": "stdout",
     "output_type": "stream",
     "text": [
      "S\n",
      "m\n",
      "m\n",
      "y\n"
     ]
    }
   ],
   "source": [
    "# Continue\n",
    "mystring = 'Sammy'\n",
    "\n",
    "for letter in mystring:\n",
    "    if letter == 'a':\n",
    "        continue\n",
    "    print(letter)"
   ]
  },
  {
   "cell_type": "code",
   "execution_count": 79,
   "id": "eb268e04-1537-43e9-9fb1-382932513d7c",
   "metadata": {},
   "outputs": [
    {
     "name": "stdout",
     "output_type": "stream",
     "text": [
      "S\n"
     ]
    }
   ],
   "source": [
    "#break\n",
    "for letter in mystring:\n",
    "    if letter == 'a':\n",
    "        break\n",
    "    print(letter)"
   ]
  },
  {
   "cell_type": "code",
   "execution_count": 83,
   "id": "6c98d510-634f-49bb-a9f4-2db17d348fa6",
   "metadata": {},
   "outputs": [
    {
     "name": "stdout",
     "output_type": "stream",
     "text": [
      "0\n",
      "1\n"
     ]
    }
   ],
   "source": [
    "x=0\n",
    "while x < 5:\n",
    "\n",
    "    if x == 2:\n",
    "        break\n",
    "    print(x)\n",
    "    x+=1"
   ]
  },
  {
   "cell_type": "code",
   "execution_count": 99,
   "id": "a3c78dcb-7b58-4f8f-b004-2b95e1fe3df0",
   "metadata": {},
   "outputs": [],
   "source": [
    "#useful operators\n",
    "#range"
   ]
  },
  {
   "cell_type": "code",
   "execution_count": 85,
   "id": "2a9a10e5-ae67-41a6-af5f-f9dae0c9ff87",
   "metadata": {},
   "outputs": [
    {
     "name": "stdout",
     "output_type": "stream",
     "text": [
      "0\n",
      "1\n",
      "2\n",
      "3\n",
      "4\n",
      "5\n",
      "6\n",
      "7\n",
      "8\n",
      "9\n"
     ]
    }
   ],
   "source": [
    "for num in range(10):\n",
    "    print(num)"
   ]
  },
  {
   "cell_type": "code",
   "execution_count": 89,
   "id": "b173c6d2-7068-4b2c-a6ae-ccac341f55bf",
   "metadata": {},
   "outputs": [
    {
     "name": "stdout",
     "output_type": "stream",
     "text": [
      "3\n",
      "5\n",
      "7\n",
      "9\n"
     ]
    }
   ],
   "source": [
    "for num in range(3,11, 2):\n",
    "    print(num)"
   ]
  },
  {
   "cell_type": "code",
   "execution_count": 97,
   "id": "edeac65b-64aa-4ddd-8c05-3125d473fb3f",
   "metadata": {},
   "outputs": [
    {
     "data": {
      "text/plain": [
       "[0, 2, 4, 6, 8, 10]"
      ]
     },
     "execution_count": 97,
     "metadata": {},
     "output_type": "execute_result"
    }
   ],
   "source": [
    "list(range(0,11,2)) #range function is a generator of numbers - generates info instead of saving it all to memory"
   ]
  },
  {
   "cell_type": "code",
   "execution_count": 111,
   "id": "f7c0589f-b891-40bb-b620-b4c26fc3c499",
   "metadata": {},
   "outputs": [
    {
     "name": "stdout",
     "output_type": "stream",
     "text": [
      "At index 0 the letter is a\n",
      "At index 1 the letter is b\n",
      "At index 2 the letter is e\n",
      "At index 3 the letter is j\n",
      "At index 4 the letter is a\n"
     ]
    }
   ],
   "source": [
    "#enumerator - enumarate function can take any list type of object and returns a tuple per each element in the form of\n",
    "# (index,element)\n",
    "\n",
    "index_count = 0\n",
    "for letter in 'abeja':\n",
    "    print ('At index {} the letter is {}'.format(index_count, letter))\n",
    "    index_count+=1\n",
    "    "
   ]
  },
  {
   "cell_type": "code",
   "execution_count": 113,
   "id": "a9a66775-ec62-4fd8-ad71-6d6d6d7bfc1b",
   "metadata": {},
   "outputs": [
    {
     "name": "stdout",
     "output_type": "stream",
     "text": [
      "a\n",
      "b\n",
      "c\n",
      "d\n",
      "e\n"
     ]
    }
   ],
   "source": [
    "index_count = 0\n",
    "word = 'abcde'\n",
    "for letter in word:\n",
    "    print (word[index_count])\n",
    "    index_count+=1\n"
   ]
  },
  {
   "cell_type": "code",
   "execution_count": 115,
   "id": "613fcac9-0e3d-46f0-ab4f-263c15468e51",
   "metadata": {},
   "outputs": [
    {
     "name": "stdout",
     "output_type": "stream",
     "text": [
      "(0, 'a')\n",
      "(1, 'b')\n",
      "(2, 'c')\n",
      "(3, 'd')\n",
      "(4, 'e')\n"
     ]
    }
   ],
   "source": [
    "word = 'abcde'\n",
    "for item in enumerate(word):\n",
    "    print(item)"
   ]
  },
  {
   "cell_type": "code",
   "execution_count": 109,
   "id": "673240d8-670c-4f21-8a93-a059bb137c71",
   "metadata": {},
   "outputs": [
    {
     "name": "stdout",
     "output_type": "stream",
     "text": [
      "0\n",
      "a\n",
      "\n",
      "\n",
      "1\n",
      "b\n",
      "\n",
      "\n",
      "2\n",
      "c\n",
      "\n",
      "\n",
      "3\n",
      "d\n",
      "\n",
      "\n",
      "4\n",
      "e\n",
      "\n",
      "\n"
     ]
    }
   ],
   "source": [
    "#we can use tuple unpacking \n",
    "for index,letter in enumerate(word):\n",
    "    print(index)\n",
    "    print(letter)\n",
    "    print('\\n')"
   ]
  },
  {
   "cell_type": "code",
   "execution_count": 121,
   "id": "6af43a33-9f3a-43bb-9094-bc22af810383",
   "metadata": {},
   "outputs": [
    {
     "name": "stdout",
     "output_type": "stream",
     "text": [
      "(1, 'a')\n",
      "(2, 'b')\n",
      "(3, 'c')\n"
     ]
    }
   ],
   "source": [
    "#zip function --- almost the opposite of enumerate\n",
    "mylist1 = [1,2,3,4,5,6]\n",
    "mylist2 =['a','b','c']\n",
    "mylist3 =[100,200,300]\n",
    "\n",
    "for item in zip(mylist1,mylist2):\n",
    "    print(item)\n",
    "    "
   ]
  },
  {
   "cell_type": "code",
   "execution_count": 123,
   "id": "f4cbc913-3fe7-457e-b769-2ec7f4a0425b",
   "metadata": {},
   "outputs": [
    {
     "data": {
      "text/plain": [
       "[(1, 'a', 100), (2, 'b', 200), (3, 'c', 300)]"
      ]
     },
     "execution_count": 123,
     "metadata": {},
     "output_type": "execute_result"
    }
   ],
   "source": [
    "list(zip(mylist1,mylist2,mylist3))"
   ]
  },
  {
   "cell_type": "code",
   "execution_count": 129,
   "id": "2f4dbe04-4023-4998-8bc7-6eee7cc9c43b",
   "metadata": {},
   "outputs": [
    {
     "name": "stdout",
     "output_type": "stream",
     "text": [
      "a\n",
      "b\n",
      "c\n"
     ]
    }
   ],
   "source": [
    "for a,b,c in zip(mylist1,mylist2,mylist3):\n",
    "    print(b)\n"
   ]
  },
  {
   "cell_type": "code",
   "execution_count": 135,
   "id": "1293111a-6fd7-43df-b5fa-e41d9512bd9a",
   "metadata": {},
   "outputs": [
    {
     "data": {
      "text/plain": [
       "False"
      ]
     },
     "execution_count": 135,
     "metadata": {},
     "output_type": "execute_result"
    }
   ],
   "source": [
    "# operator IN - let you check if item is in list\n",
    "\n",
    "'x' in [1,2,3]"
   ]
  },
  {
   "cell_type": "code",
   "execution_count": 137,
   "id": "15647290-02ff-484a-98fd-04dfbd468d6e",
   "metadata": {},
   "outputs": [
    {
     "data": {
      "text/plain": [
       "True"
      ]
     },
     "execution_count": 137,
     "metadata": {},
     "output_type": "execute_result"
    }
   ],
   "source": [
    "'a' in 'a world'"
   ]
  },
  {
   "cell_type": "code",
   "execution_count": 139,
   "id": "af31791a-20df-446c-a951-dfc0e944d321",
   "metadata": {},
   "outputs": [
    {
     "data": {
      "text/plain": [
       "True"
      ]
     },
     "execution_count": 139,
     "metadata": {},
     "output_type": "execute_result"
    }
   ],
   "source": [
    "'mykey' in {'mykey':234}"
   ]
  },
  {
   "cell_type": "code",
   "execution_count": 141,
   "id": "c6ef0fb3-904f-47ae-8029-a9e4caabf12d",
   "metadata": {},
   "outputs": [
    {
     "data": {
      "text/plain": [
       "True"
      ]
     },
     "execution_count": 141,
     "metadata": {},
     "output_type": "execute_result"
    }
   ],
   "source": [
    "d = {'mykey':234}\n",
    "234 in d.values()\n"
   ]
  },
  {
   "cell_type": "code",
   "execution_count": 143,
   "id": "9865f0cc-8e50-414b-a58a-44bacb362d4a",
   "metadata": {},
   "outputs": [
    {
     "data": {
      "text/plain": [
       "False"
      ]
     },
     "execution_count": 143,
     "metadata": {},
     "output_type": "execute_result"
    }
   ],
   "source": [
    "234 in d.keys()\n"
   ]
  },
  {
   "cell_type": "code",
   "execution_count": 155,
   "id": "bbe57e8a-fd5e-47aa-9be1-31d65a480fda",
   "metadata": {},
   "outputs": [
    {
     "data": {
      "text/plain": [
       "False"
      ]
     },
     "execution_count": 155,
     "metadata": {},
     "output_type": "execute_result"
    }
   ],
   "source": [
    "# We can combine it with NOT - not in\n",
    "'x' not in ['x','y','z']"
   ]
  },
  {
   "cell_type": "code",
   "execution_count": 157,
   "id": "7df168b5-16f0-4488-9119-183831853395",
   "metadata": {},
   "outputs": [
    {
     "data": {
      "text/plain": [
       "1"
      ]
     },
     "execution_count": 157,
     "metadata": {},
     "output_type": "execute_result"
    }
   ],
   "source": [
    "# min & max\n",
    "\n",
    "mylist = [2, 5, 34, 56, 89, 54, 32, 200, 1]\n",
    "min(mylist)"
   ]
  },
  {
   "cell_type": "code",
   "execution_count": 159,
   "id": "dbd66a4c-0fc8-4a73-a0b0-3aa1d0fae116",
   "metadata": {},
   "outputs": [
    {
     "data": {
      "text/plain": [
       "200"
      ]
     },
     "execution_count": 159,
     "metadata": {},
     "output_type": "execute_result"
    }
   ],
   "source": [
    "max(mylist)"
   ]
  },
  {
   "cell_type": "code",
   "execution_count": 161,
   "id": "480462f6-6cb5-4f1b-9b1a-fc89292e2336",
   "metadata": {},
   "outputs": [],
   "source": [
    "# random from build in python's random library - we'll look at 2 fns from the many that the lib includes \n",
    "# shuffle\n",
    "\n",
    "from random import shuffle \n",
    "# This shuffles the list \"in-place\" meaning it won't return\n",
    "# anything, instead it will effect the list passed\n",
    "shuffle(mylist)\n"
   ]
  },
  {
   "cell_type": "code",
   "execution_count": 163,
   "id": "4e0bf24f-ad0f-46cd-99b5-85bfe233e9f3",
   "metadata": {},
   "outputs": [
    {
     "data": {
      "text/plain": [
       "[34, 2, 200, 89, 32, 56, 54, 5, 1]"
      ]
     },
     "execution_count": 163,
     "metadata": {},
     "output_type": "execute_result"
    }
   ],
   "source": [
    "mylist"
   ]
  },
  {
   "cell_type": "code",
   "execution_count": 167,
   "id": "979aa0be-3ac1-47f4-88ca-61e5cd548731",
   "metadata": {},
   "outputs": [
    {
     "data": {
      "text/plain": [
       "58"
      ]
     },
     "execution_count": 167,
     "metadata": {},
     "output_type": "execute_result"
    }
   ],
   "source": [
    "# randint - Return random integer in range [a, b], including both end points.\n",
    "\n",
    "from random import randint\n",
    "randint(0,100)"
   ]
  },
  {
   "cell_type": "code",
   "execution_count": 169,
   "id": "4a96ad5a-3d32-41a7-b6b6-fd67ecdf2fcf",
   "metadata": {},
   "outputs": [
    {
     "data": {
      "text/plain": [
       "39"
      ]
     },
     "execution_count": 169,
     "metadata": {},
     "output_type": "execute_result"
    }
   ],
   "source": [
    "# Return random integer in range [a, b], including both end points.\n",
    "randint(0,100)"
   ]
  },
  {
   "cell_type": "code",
   "execution_count": 171,
   "id": "70170272-7611-4d9e-bf33-86053e4d2aba",
   "metadata": {},
   "outputs": [
    {
     "name": "stdin",
     "output_type": "stream",
     "text": [
      "Enter Something into this box:  Hola bella\n"
     ]
    },
    {
     "data": {
      "text/plain": [
       "'Hola bella'"
      ]
     },
     "execution_count": 171,
     "metadata": {},
     "output_type": "execute_result"
    }
   ],
   "source": [
    "#input - from user\n",
    "input('Enter Something into this box: ')"
   ]
  },
  {
   "cell_type": "code",
   "execution_count": null,
   "id": "dd2aeb36-3a77-4089-87e8-a5301d5c374e",
   "metadata": {},
   "outputs": [],
   "source": []
  }
 ],
 "metadata": {
  "kernelspec": {
   "display_name": "Python 3 (ipykernel)",
   "language": "python",
   "name": "python3"
  },
  "language_info": {
   "codemirror_mode": {
    "name": "ipython",
    "version": 3
   },
   "file_extension": ".py",
   "mimetype": "text/x-python",
   "name": "python",
   "nbconvert_exporter": "python",
   "pygments_lexer": "ipython3",
   "version": "3.12.4"
  }
 },
 "nbformat": 4,
 "nbformat_minor": 5
}
