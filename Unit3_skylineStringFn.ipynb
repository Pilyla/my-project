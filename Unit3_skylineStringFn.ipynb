{
 "cells": [
  {
   "cell_type": "code",
   "execution_count": 69,
   "id": "3fe0de91-0c00-4e48-b0e1-0a65238f3eea",
   "metadata": {},
   "outputs": [],
   "source": [
    "def myfunc(my_string):\n",
    "    \n",
    "    index = 0\n",
    "    skyline_string = ''\n",
    "    \n",
    "    for letter in my_string:\n",
    "        if index%2 == 0:\n",
    "            skyline_string = skyline_string + letter.lower()\n",
    "        else:\n",
    "            skyline_string = skyline_string + letter.upper()\n",
    "        index +=1\n",
    "\n",
    "    return(skyline_string)\n",
    "    "
   ]
  },
  {
   "cell_type": "code",
   "execution_count": 71,
   "id": "739ddab7-e485-479f-adb5-e7acf9f9e15d",
   "metadata": {},
   "outputs": [
    {
     "data": {
      "text/plain": [
       "'lIbElUlA'"
      ]
     },
     "execution_count": 71,
     "metadata": {},
     "output_type": "execute_result"
    }
   ],
   "source": [
    "myfunc('Libelula')"
   ]
  },
  {
   "cell_type": "code",
   "execution_count": 73,
   "id": "91d0e97e-6c00-4844-a66f-afdf54ce3bb1",
   "metadata": {},
   "outputs": [
    {
     "data": {
      "text/plain": [
       "'aNtHrOpOmOrPhIsM'"
      ]
     },
     "execution_count": 73,
     "metadata": {},
     "output_type": "execute_result"
    }
   ],
   "source": [
    "myfunc('Anthropomorphism')"
   ]
  },
  {
   "cell_type": "code",
   "execution_count": null,
   "id": "da8f6741-9ae9-4ff7-9a3d-4296b956a1b9",
   "metadata": {},
   "outputs": [],
   "source": []
  }
 ],
 "metadata": {
  "kernelspec": {
   "display_name": "Python 3 (ipykernel)",
   "language": "python",
   "name": "python3"
  },
  "language_info": {
   "codemirror_mode": {
    "name": "ipython",
    "version": 3
   },
   "file_extension": ".py",
   "mimetype": "text/x-python",
   "name": "python",
   "nbconvert_exporter": "python",
   "pygments_lexer": "ipython3",
   "version": "3.12.4"
  }
 },
 "nbformat": 4,
 "nbformat_minor": 5
}
